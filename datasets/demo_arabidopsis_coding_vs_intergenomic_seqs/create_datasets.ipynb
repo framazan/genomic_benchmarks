{
 "cells": [
  {
   "cell_type": "code",
   "execution_count": 15,
   "id": "eee3c3ee",
   "metadata": {},
   "outputs": [
    {
     "name": "stdout",
     "output_type": "stream",
     "text": [
      "The autoreload extension is already loaded. To reload it, use:\n",
      "  %reload_ext autoreload\n"
     ]
    }
   ],
   "source": [
    "%load_ext autoreload\n",
    "%autoreload 2"
   ]
  },
  {
   "cell_type": "code",
   "execution_count": 16,
   "id": "a381d940",
   "metadata": {},
   "outputs": [],
   "source": [
    "#from genomic_benchmarks.seq2loc import fasta2loc\n",
    "from sklearn.model_selection import train_test_split\n",
    "import pandas as pd\n",
    "from tqdm.notebook import tqdm\n",
    "from pathlib import Path\n",
    "import yaml\n",
    "import gzip\n",
    "from Bio import SeqIO\n",
    "\n",
    "def _fastagz2dict(fasta_path, fasta_total=None, stop_id=None, region_name_transform=lambda x: x):\n",
    "    # load gzipped fasta into dictionary\n",
    "    fasta = {}\n",
    "\n",
    "    with gzip.open(fasta_path, \"rt\") as handle:\n",
    "        for record in tqdm(SeqIO.parse(handle, \"fasta\"), total=fasta_total):\n",
    "            fasta[region_name_transform(record.id)] = str(record.seq)\n",
    "            if stop_id and (record.id == stop_id):\n",
    "                # stop, do not read small contigs\n",
    "                break\n",
    "    return fasta"
   ]
  },
  {
   "cell_type": "code",
   "execution_count": 17,
   "id": "e8ada6b3",
   "metadata": {},
   "outputs": [],
   "source": [
    "from tqdm.autonotebook import tqdm as tdm\n",
    "\n",
    "def fasta2loc(fasta_path, ref_dict, use_seq_ids=True):\n",
    "\n",
    "    tree = {}\n",
    "    nseqs = 0\n",
    "\n",
    "    # building tree for seq searching\n",
    "    for seq in SeqIO.parse(open(fasta_path, \"r\"), \"fasta\"):\n",
    "        s = str(seq.seq)\n",
    "        rev = str(seq.seq.reverse_complement())\n",
    "        if use_seq_ids:\n",
    "            sname = seq.name\n",
    "        else:\n",
    "            sname = s\n",
    "        nseqs += 1\n",
    "\n",
    "        _update_tree(tree, s, sname, \"+\")\n",
    "        _update_tree(tree, rev, sname, \"-\")\n",
    "\n",
    "    print(f\"{nseqs} sequences read and parsed.\")\n",
    "\n",
    "    results = {}\n",
    "\n",
    "    for chrom in tdm(ref_dict):\n",
    "        curr_positions = []\n",
    "        # print(f\"Processing chrom {chrom}.\")\n",
    "\n",
    "        for i, c in tdm(enumerate(ref_dict[chrom]), total=len(ref_dict[chrom]), leave=False):\n",
    "\n",
    "            prev_positions = curr_positions + [tree]\n",
    "            curr_positions = []\n",
    "\n",
    "            for pos in prev_positions:\n",
    "                if c in pos:\n",
    "                    pos = pos[c]\n",
    "                    curr_positions.append(pos)\n",
    "\n",
    "                    if \"terminal\" in pos:\n",
    "                        results[pos[\"terminal\"][0]] = (chrom, i - pos[\"terminal\"][2] + 1, i + 1, pos[\"terminal\"][1])\n",
    "\n",
    "    print(f\"{len(results.keys())} sequences found in the reference.\")\n",
    "\n",
    "    return results\n",
    "\n",
    "\n",
    "def _update_tree(root, seq_str, seq_name, direction):\n",
    "    # updates tree in `root` with a sequence `seq_str`\n",
    "    position = root\n",
    "\n",
    "    for c in seq_str:\n",
    "        if c in position:\n",
    "            position = position[c]\n",
    "        else:\n",
    "            position[c] = {}\n",
    "            position = position[c]\n",
    "    position[\"terminal\"] = (seq_name, direction, len(seq_str))"
   ]
  },
  {
   "cell_type": "markdown",
   "id": "386ad9fd",
   "metadata": {},
   "source": [
    "## Load genomic reference and download data from GitHub"
   ]
  },
  {
   "cell_type": "code",
   "execution_count": 18,
   "id": "d3bd760b",
   "metadata": {},
   "outputs": [
    {
     "data": {
      "application/vnd.jupyter.widget-view+json": {
       "model_id": "82380d0acebd463e9b36018f014afb02",
       "version_major": 2,
       "version_minor": 0
      },
      "text/plain": [
       "  0%|          | 0/7 [00:00<?, ?it/s]"
      ]
     },
     "metadata": {},
     "output_type": "display_data"
    },
    {
     "data": {
      "text/plain": [
       "dict_keys(['Chr1', 'Chr2', 'Chr3', 'Chr4', 'Chr5', 'ChrM', 'ChrC'])"
      ]
     },
     "execution_count": 18,
     "metadata": {},
     "output_type": "execute_result"
    }
   ],
   "source": [
    "genome = _fastagz2dict(\"./Athaliana_167_TAIR9.fa.gz\",\n",
    "                      7)\n",
    "genome.keys()"
   ]
  },
  {
   "cell_type": "markdown",
   "id": "fa3368e0",
   "metadata": {},
   "source": [
    "## Get coding sequences"
   ]
  },
  {
   "cell_type": "code",
   "execution_count": 19,
   "id": "102ca6eb",
   "metadata": {},
   "outputs": [],
   "source": [
    "# slow!\n",
    "import shutil\n",
    "with gzip.open('./Athaliana_167_TAIR10.cds.fa.gz', 'rb') as f_in:\n",
    "  with open('./Athaliana_167_TAIR10.cds.fa', 'wb') as f_out:\n",
    "    shutil.copyfileobj(f_in, f_out)"
   ]
  },
  {
   "cell_type": "code",
   "execution_count": 20,
   "id": "5458e86f",
   "metadata": {},
   "outputs": [
    {
     "name": "stdout",
     "output_type": "stream",
     "text": [
      "35386 sequences read and parsed.\n"
     ]
    },
    {
     "data": {
      "application/vnd.jupyter.widget-view+json": {
       "model_id": "da8e0746aae949129a98ea287f3a478a",
       "version_major": 2,
       "version_minor": 0
      },
      "text/plain": [
       "  0%|          | 0/7 [00:00<?, ?it/s]"
      ]
     },
     "metadata": {},
     "output_type": "display_data"
    },
    {
     "data": {
      "application/vnd.jupyter.widget-view+json": {
       "model_id": "3e53031d3fab41d6bf83d29c3069ecce",
       "version_major": 2,
       "version_minor": 0
      },
      "text/plain": [
       "  0%|          | 0/30427671 [00:00<?, ?it/s]"
      ]
     },
     "metadata": {},
     "output_type": "display_data"
    },
    {
     "data": {
      "application/vnd.jupyter.widget-view+json": {
       "model_id": "f84617badd1d46e8baa2ef4ecea8cf64",
       "version_major": 2,
       "version_minor": 0
      },
      "text/plain": [
       "  0%|          | 0/19698289 [00:00<?, ?it/s]"
      ]
     },
     "metadata": {},
     "output_type": "display_data"
    },
    {
     "data": {
      "application/vnd.jupyter.widget-view+json": {
       "model_id": "91bae28cbb58410f9b9de4e1bf961182",
       "version_major": 2,
       "version_minor": 0
      },
      "text/plain": [
       "  0%|          | 0/23459830 [00:00<?, ?it/s]"
      ]
     },
     "metadata": {},
     "output_type": "display_data"
    },
    {
     "data": {
      "application/vnd.jupyter.widget-view+json": {
       "model_id": "bc1e4fcbedf34892b530a284e02b6e57",
       "version_major": 2,
       "version_minor": 0
      },
      "text/plain": [
       "  0%|          | 0/18585056 [00:00<?, ?it/s]"
      ]
     },
     "metadata": {},
     "output_type": "display_data"
    },
    {
     "data": {
      "application/vnd.jupyter.widget-view+json": {
       "model_id": "853390fa2aa44ccca8e4158afb2fba18",
       "version_major": 2,
       "version_minor": 0
      },
      "text/plain": [
       "  0%|          | 0/26975502 [00:00<?, ?it/s]"
      ]
     },
     "metadata": {},
     "output_type": "display_data"
    },
    {
     "data": {
      "application/vnd.jupyter.widget-view+json": {
       "model_id": "88c72c7f4dad405bb9efba22fccf1af8",
       "version_major": 2,
       "version_minor": 0
      },
      "text/plain": [
       "  0%|          | 0/366924 [00:00<?, ?it/s]"
      ]
     },
     "metadata": {},
     "output_type": "display_data"
    },
    {
     "data": {
      "application/vnd.jupyter.widget-view+json": {
       "model_id": "c6603ea276154e31915a8c007fd936bd",
       "version_major": 2,
       "version_minor": 0
      },
      "text/plain": [
       "  0%|          | 0/154478 [00:00<?, ?it/s]"
      ]
     },
     "metadata": {},
     "output_type": "display_data"
    },
    {
     "name": "stdout",
     "output_type": "stream",
     "text": [
      "6954 sequences found in the reference.\n"
     ]
    }
   ],
   "source": [
    "coding_seqs = fasta2loc(\"./Athaliana_167_TAIR10.cds.fa\", genome)"
   ]
  },
  {
   "cell_type": "markdown",
   "id": "d8d34e22",
   "metadata": {},
   "source": [
    "### A few checks"
   ]
  },
  {
   "cell_type": "code",
   "execution_count": 22,
   "id": "c7992834",
   "metadata": {},
   "outputs": [
    {
     "data": {
      "text/plain": [
       "6954"
      ]
     },
     "execution_count": 22,
     "metadata": {},
     "output_type": "execute_result"
    }
   ],
   "source": [
    "len(coding_seqs.keys())"
   ]
  },
  {
   "cell_type": "code",
   "execution_count": 23,
   "id": "76ad9b5c",
   "metadata": {},
   "outputs": [
    {
     "name": "stdout",
     "output_type": "stream",
     "text": [
      "['AT1G01030.1', 'AT1G01073.1', 'AT1G01115.1']\n",
      "{'AT1G01030.1': ('Chr1', 11863, 12940, '-'), 'AT1G01073.1': ('Chr1', 44676, 44787, '+'), 'AT1G01115.1': ('Chr1', 56623, 56740, '+'), 'AT1G01120.1': ('Chr1', 57391, 58978, '-'), 'AT1G01180.1': ('Chr1', 75632, 76556, '+')}\n"
     ]
    }
   ],
   "source": [
    "import itertools\n",
    "#print 3 randomly selected keys\n",
    "test_keys = list(itertools.islice(coding_seqs, 3))\n",
    "print(test_keys)\n",
    "print(dict(list(coding_seqs.items())[0: 5]))"
   ]
  },
  {
   "cell_type": "code",
   "execution_count": 9,
   "id": "a9da566a",
   "metadata": {},
   "outputs": [
    {
     "data": {
      "text/plain": [
       "('Chr1', 44676, 44787, '+')"
      ]
     },
     "execution_count": 9,
     "metadata": {},
     "output_type": "execute_result"
    }
   ],
   "source": [
    "coding_seqs[test_keys[1]]"
   ]
  },
  {
   "cell_type": "code",
   "execution_count": 10,
   "id": "78b9738d",
   "metadata": {},
   "outputs": [
    {
     "data": {
      "text/plain": [
       "'ATGCTTATCAGTATCAGCCCACTGATATTTGTGATACCAGTATCATCTGACGTGGCTTCTTCTGATTGGTTACATTTGACAAAAGCAAAAAATATTATATATATTTATTAA'"
      ]
     },
     "execution_count": 10,
     "metadata": {},
     "output_type": "execute_result"
    }
   ],
   "source": [
    "genome['Chr1'][44676:44787]"
   ]
  },
  {
   "cell_type": "code",
   "execution_count": 23,
   "id": "3afc07b5",
   "metadata": {},
   "outputs": [
    {
     "data": {
      "text/plain": [
       "('Chr1', 56623, 56740, '+')"
      ]
     },
     "execution_count": 23,
     "metadata": {},
     "output_type": "execute_result"
    }
   ],
   "source": [
    "coding_seqs['AT1G01115.1']"
   ]
  },
  {
   "cell_type": "code",
   "execution_count": 9,
   "id": "d2a973e5",
   "metadata": {},
   "outputs": [],
   "source": [
    "from Bio.Seq import Seq\n",
    "\n",
    "def _rev(seq, strand):\n",
    "    # reverse complement\n",
    "    if strand == '-':\n",
    "        return str(Seq(seq).reverse_complement())\n",
    "    else:\n",
    "        return seq"
   ]
  },
  {
   "cell_type": "code",
   "execution_count": 10,
   "id": "62fd3e42",
   "metadata": {},
   "outputs": [
    {
     "data": {
      "text/plain": [
       "'ATGCTTATCAGTATCAGCCCACTGATATTTGTGATACCAGTATCATCTGACGTGGCTTCTTCTGATTGGTTACATTTGACAAAAGCAAAAAATATTATATATATTTATTAA'"
      ]
     },
     "execution_count": 10,
     "metadata": {},
     "output_type": "execute_result"
    }
   ],
   "source": [
    "_rev(genome['Chr1'][44676:44787], \"+\")"
   ]
  },
  {
   "cell_type": "code",
   "execution_count": 12,
   "id": "60741d93",
   "metadata": {},
   "outputs": [
    {
     "data": {
      "text/html": [
       "<div>\n",
       "<style scoped>\n",
       "    .dataframe tbody tr th:only-of-type {\n",
       "        vertical-align: middle;\n",
       "    }\n",
       "\n",
       "    .dataframe tbody tr th {\n",
       "        vertical-align: top;\n",
       "    }\n",
       "\n",
       "    .dataframe thead th {\n",
       "        text-align: right;\n",
       "    }\n",
       "</style>\n",
       "<table border=\"1\" class=\"dataframe\">\n",
       "  <thead>\n",
       "    <tr style=\"text-align: right;\">\n",
       "      <th></th>\n",
       "      <th>region</th>\n",
       "      <th>start</th>\n",
       "      <th>end</th>\n",
       "      <th>strand</th>\n",
       "    </tr>\n",
       "    <tr>\n",
       "      <th>id</th>\n",
       "      <th></th>\n",
       "      <th></th>\n",
       "      <th></th>\n",
       "      <th></th>\n",
       "    </tr>\n",
       "  </thead>\n",
       "  <tbody>\n",
       "    <tr>\n",
       "      <th>AT1G01030.1</th>\n",
       "      <td>Chr1</td>\n",
       "      <td>11863</td>\n",
       "      <td>12940</td>\n",
       "      <td>-</td>\n",
       "    </tr>\n",
       "    <tr>\n",
       "      <th>AT1G01073.1</th>\n",
       "      <td>Chr1</td>\n",
       "      <td>44676</td>\n",
       "      <td>44787</td>\n",
       "      <td>+</td>\n",
       "    </tr>\n",
       "    <tr>\n",
       "      <th>AT1G01115.1</th>\n",
       "      <td>Chr1</td>\n",
       "      <td>56623</td>\n",
       "      <td>56740</td>\n",
       "      <td>+</td>\n",
       "    </tr>\n",
       "    <tr>\n",
       "      <th>AT1G01120.1</th>\n",
       "      <td>Chr1</td>\n",
       "      <td>57391</td>\n",
       "      <td>58978</td>\n",
       "      <td>-</td>\n",
       "    </tr>\n",
       "    <tr>\n",
       "      <th>AT1G01180.1</th>\n",
       "      <td>Chr1</td>\n",
       "      <td>75632</td>\n",
       "      <td>76556</td>\n",
       "      <td>+</td>\n",
       "    </tr>\n",
       "    <tr>\n",
       "      <th>AT1G01240.3</th>\n",
       "      <td>Chr1</td>\n",
       "      <td>100682</td>\n",
       "      <td>101678</td>\n",
       "      <td>+</td>\n",
       "    </tr>\n",
       "    <tr>\n",
       "      <th>AT1G01250.1</th>\n",
       "      <td>Chr1</td>\n",
       "      <td>104730</td>\n",
       "      <td>105309</td>\n",
       "      <td>-</td>\n",
       "    </tr>\n",
       "    <tr>\n",
       "      <th>AT1G01260.3</th>\n",
       "      <td>Chr1</td>\n",
       "      <td>109594</td>\n",
       "      <td>111367</td>\n",
       "      <td>+</td>\n",
       "    </tr>\n",
       "    <tr>\n",
       "      <th>AT1G01300.1</th>\n",
       "      <td>Chr1</td>\n",
       "      <td>117064</td>\n",
       "      <td>118522</td>\n",
       "      <td>+</td>\n",
       "    </tr>\n",
       "    <tr>\n",
       "      <th>AT1G01305.1</th>\n",
       "      <td>Chr1</td>\n",
       "      <td>119428</td>\n",
       "      <td>119854</td>\n",
       "      <td>+</td>\n",
       "    </tr>\n",
       "  </tbody>\n",
       "</table>\n",
       "</div>"
      ],
      "text/plain": [
       "            region   start     end strand\n",
       "id                                       \n",
       "AT1G01030.1   Chr1   11863   12940      -\n",
       "AT1G01073.1   Chr1   44676   44787      +\n",
       "AT1G01115.1   Chr1   56623   56740      +\n",
       "AT1G01120.1   Chr1   57391   58978      -\n",
       "AT1G01180.1   Chr1   75632   76556      +\n",
       "AT1G01240.3   Chr1  100682  101678      +\n",
       "AT1G01250.1   Chr1  104730  105309      -\n",
       "AT1G01260.3   Chr1  109594  111367      +\n",
       "AT1G01300.1   Chr1  117064  118522      +\n",
       "AT1G01305.1   Chr1  119428  119854      +"
      ]
     },
     "execution_count": 12,
     "metadata": {},
     "output_type": "execute_result"
    }
   ],
   "source": [
    "cds_df = pd.DataFrame.from_dict(coding_seqs, orient='index', columns=['region','start','end','strand'])\n",
    "\n",
    "cds_df = cds_df.rename_axis('id')\n",
    "cds_df.to_csv(\"positive.csv\")\n",
    "cds_df.head(10)"
   ]
  },
  {
   "cell_type": "markdown",
   "id": "5f5defbb",
   "metadata": {},
   "source": [
    "## Get non-coding sequences"
   ]
  },
  {
   "cell_type": "code",
   "execution_count": 37,
   "id": "5fcbbcee",
   "metadata": {},
   "outputs": [
    {
     "name": "stdout",
     "output_type": "stream",
     "text": [
      "{'Chr1': 30427671, 'Chr2': 19698289, 'Chr3': 23459830, 'Chr4': 18585056, 'Chr5': 26975502, 'ChrM': 366924, 'ChrC': 154478}\n"
     ]
    },
    {
     "data": {
      "text/plain": [
       "('Chr2', 8921741)"
      ]
     },
     "execution_count": 37,
     "metadata": {},
     "output_type": "execute_result"
    }
   ],
   "source": [
    "import numpy as np\n",
    "def get_chr_names_and_lengths():\n",
    "    chr_lengths = {}\n",
    "    for chromosome in genome.keys():\n",
    "        chr_lengths[chromosome] = len(genome[chromosome])\n",
    "\n",
    "    # check that all lengths are different from 0\n",
    "    assert all(x != 0 for x in chr_lengths.values())\n",
    "\n",
    "    return chr_lengths\n",
    "\n",
    "def get_random_chr(chr_names_and_lengths):\n",
    "    chr_lengths = pd.Series(chr_names_and_lengths.values())\n",
    "    chr_probs = chr_lengths / chr_lengths.sum()\n",
    "    chr_names = list(chr_names_and_lengths.keys())\n",
    "    return chr_names[np.argwhere(np.random.multinomial(1, chr_probs))[0][0]]\n",
    "\n",
    "\n",
    "def is_intersecting(c, pos, df_forbidden):\n",
    "    intersecting = (df_forbidden['region'] == c) & (df_forbidden['start'].astype(int) <= pos) & (\n",
    "                df_forbidden['end'].astype(int) >= pos)\n",
    "    return intersecting.any()\n",
    "\n",
    "\n",
    "def get_random_pos(df_forbidden: pd.DataFrame, chr_names_and_lengths, offset_from_end):\n",
    "    c = get_random_chr(chr_names_and_lengths)\n",
    "    c_len = chr_names_and_lengths[c]\n",
    "    pos = np.random.randint(c_len - offset_from_end) + 1\n",
    "\n",
    "    while is_intersecting(c, pos, df_forbidden):\n",
    "        pos = np.random.randint(c_len) + 1\n",
    "\n",
    "    return c, pos\n",
    "\n",
    "chr_names_and_lengths = get_chr_names_and_lengths()\n",
    "print(chr_names_and_lengths)\n",
    "get_random_pos(cds_df, chr_names_and_lengths, 0)"
   ]
  },
  {
   "cell_type": "code",
   "execution_count": 45,
   "id": "2b607914",
   "metadata": {},
   "outputs": [
    {
     "data": {
      "text/html": [
       "<div>\n",
       "<style scoped>\n",
       "    .dataframe tbody tr th:only-of-type {\n",
       "        vertical-align: middle;\n",
       "    }\n",
       "\n",
       "    .dataframe tbody tr th {\n",
       "        vertical-align: top;\n",
       "    }\n",
       "\n",
       "    .dataframe thead th {\n",
       "        text-align: right;\n",
       "    }\n",
       "</style>\n",
       "<table border=\"1\" class=\"dataframe\">\n",
       "  <thead>\n",
       "    <tr style=\"text-align: right;\">\n",
       "      <th></th>\n",
       "      <th>region</th>\n",
       "      <th>start</th>\n",
       "      <th>end</th>\n",
       "      <th>strand</th>\n",
       "    </tr>\n",
       "  </thead>\n",
       "  <tbody>\n",
       "    <tr>\n",
       "      <th>0</th>\n",
       "      <td>Chr3</td>\n",
       "      <td>20153559</td>\n",
       "      <td>20154636</td>\n",
       "      <td>+</td>\n",
       "    </tr>\n",
       "    <tr>\n",
       "      <th>1</th>\n",
       "      <td>Chr1</td>\n",
       "      <td>20758206</td>\n",
       "      <td>20758317</td>\n",
       "      <td>+</td>\n",
       "    </tr>\n",
       "    <tr>\n",
       "      <th>2</th>\n",
       "      <td>Chr1</td>\n",
       "      <td>16583551</td>\n",
       "      <td>16583668</td>\n",
       "      <td>+</td>\n",
       "    </tr>\n",
       "    <tr>\n",
       "      <th>3</th>\n",
       "      <td>Chr2</td>\n",
       "      <td>694237</td>\n",
       "      <td>695824</td>\n",
       "      <td>+</td>\n",
       "    </tr>\n",
       "    <tr>\n",
       "      <th>4</th>\n",
       "      <td>Chr5</td>\n",
       "      <td>14792508</td>\n",
       "      <td>14793432</td>\n",
       "      <td>+</td>\n",
       "    </tr>\n",
       "    <tr>\n",
       "      <th>...</th>\n",
       "      <td>...</td>\n",
       "      <td>...</td>\n",
       "      <td>...</td>\n",
       "      <td>...</td>\n",
       "    </tr>\n",
       "    <tr>\n",
       "      <th>6949</th>\n",
       "      <td>Chr3</td>\n",
       "      <td>19258295</td>\n",
       "      <td>19258826</td>\n",
       "      <td>+</td>\n",
       "    </tr>\n",
       "    <tr>\n",
       "      <th>6950</th>\n",
       "      <td>ChrM</td>\n",
       "      <td>97823</td>\n",
       "      <td>98342</td>\n",
       "      <td>+</td>\n",
       "    </tr>\n",
       "    <tr>\n",
       "      <th>6951</th>\n",
       "      <td>Chr1</td>\n",
       "      <td>29821352</td>\n",
       "      <td>29822534</td>\n",
       "      <td>+</td>\n",
       "    </tr>\n",
       "    <tr>\n",
       "      <th>6952</th>\n",
       "      <td>Chr1</td>\n",
       "      <td>26327564</td>\n",
       "      <td>26327831</td>\n",
       "      <td>+</td>\n",
       "    </tr>\n",
       "    <tr>\n",
       "      <th>6953</th>\n",
       "      <td>Chr3</td>\n",
       "      <td>315595</td>\n",
       "      <td>320956</td>\n",
       "      <td>+</td>\n",
       "    </tr>\n",
       "  </tbody>\n",
       "</table>\n",
       "<p>6954 rows × 4 columns</p>\n",
       "</div>"
      ],
      "text/plain": [
       "     region     start       end strand\n",
       "0      Chr3  20153559  20154636      +\n",
       "1      Chr1  20758206  20758317      +\n",
       "2      Chr1  16583551  16583668      +\n",
       "3      Chr2    694237    695824      +\n",
       "4      Chr5  14792508  14793432      +\n",
       "...     ...       ...       ...    ...\n",
       "6949   Chr3  19258295  19258826      +\n",
       "6950   ChrM     97823     98342      +\n",
       "6951   Chr1  29821352  29822534      +\n",
       "6952   Chr1  26327564  26327831      +\n",
       "6953   Chr3    315595    320956      +\n",
       "\n",
       "[6954 rows x 4 columns]"
      ]
     },
     "execution_count": 45,
     "metadata": {},
     "output_type": "execute_result"
    }
   ],
   "source": [
    "num_seqs = len(cds_df)\n",
    "negative_samples = [None] * num_seqs\n",
    "for i in range(num_seqs):\n",
    "    while True:\n",
    "        seq_length = cds_df.iloc[i]['end'] - cds_df.iloc[i]['start']\n",
    "        chrom, start = get_random_pos(cds_df, chr_names_and_lengths, seq_length)\n",
    "        end = start + seq_length\n",
    "        seq = genome[chrom][start:end]\n",
    "        if 'N' not in seq.upper():\n",
    "            negative_samples[i] = [chrom, start, end, '+']\n",
    "            break\n",
    "neg_df = pd.DataFrame(negative_samples, columns=['region', 'start', 'end', 'strand'])\n",
    "neg_df"
   ]
  },
  {
   "cell_type": "code",
   "execution_count": 55,
   "id": "279d998f",
   "metadata": {},
   "outputs": [],
   "source": [
    "neg_df.index.name = \"id\"\n",
    "neg_df.to_csv(\"negative.csv\", index=True)"
   ]
  },
  {
   "cell_type": "markdown",
   "id": "c0496e67",
   "metadata": {},
   "source": [
    "## Train/test split"
   ]
  },
  {
   "cell_type": "code",
   "execution_count": 59,
   "id": "2f27f8d0",
   "metadata": {},
   "outputs": [
    {
     "data": {
      "text/plain": [
       "((5215, 4), (1739, 4))"
      ]
     },
     "execution_count": 59,
     "metadata": {},
     "output_type": "execute_result"
    }
   ],
   "source": [
    "train_cds, test_cds = train_test_split(cds_df, shuffle=True, random_state=42)\n",
    "train_cds.shape, test_cds.shape"
   ]
  },
  {
   "cell_type": "code",
   "execution_count": 56,
   "id": "9ef9b7a4",
   "metadata": {},
   "outputs": [
    {
     "data": {
      "text/plain": [
       "((5215, 4), (1739, 4))"
      ]
     },
     "execution_count": 56,
     "metadata": {},
     "output_type": "execute_result"
    }
   ],
   "source": [
    "train_neg_seqs, test_neg_seqs = train_test_split(neg_df, shuffle=True, random_state=42)\n",
    "train_neg_seqs.shape, test_neg_seqs.shape"
   ]
  },
  {
   "cell_type": "markdown",
   "id": "0388ef76",
   "metadata": {},
   "source": [
    "## CSV files"
   ]
  },
  {
   "cell_type": "code",
   "execution_count": null,
   "id": "daefc3c6",
   "metadata": {},
   "outputs": [],
   "source": [
    "BASE_FILE_PATH = Path('../../datasets/demo_arabidopsis_coding_vs_intergenomic_seqs/')\n",
    "(BASE_FILE_PATH / 'train').mkdir()\n",
    "(BASE_FILE_PATH / 'test').mkdir()\n",
    "train_cds.to_csv(BASE_FILE_PATH / 'train' / 'positive.csv.gz', index=False, compression='gzip')\n",
    "train_neg_seqs.to_csv(BASE_FILE_PATH / 'train' / 'negative.csv.gz', index=False, compression='gzip')\n",
    "test_cds.to_csv(BASE_FILE_PATH / 'test' / 'positive.csv.gz', index=False, compression='gzip')\n",
    "test_neg_seqs.to_csv(BASE_FILE_PATH / 'test' / 'negative.csv.gz', index=False, compression='gzip')"
   ]
  },
  {
   "cell_type": "markdown",
   "id": "684f1bd0",
   "metadata": {},
   "source": [
    "## Create YAML File"
   ]
  },
  {
   "cell_type": "code",
   "execution_count": 64,
   "id": "0cc2044b",
   "metadata": {},
   "outputs": [
    {
     "data": {
      "text/plain": [
       "{'version': 0,\n",
       " 'classes': {'positive': {'type': 'fa.gz',\n",
       "   'url': 'https://raw.githubusercontent.com/framazan/files/master/Athaliana_167_TAIR10.cds.fa.gz',\n",
       "   'extra_processing': 'PHYTOZOME_ARABIDOPSIS_V10'},\n",
       "  'negative': {'type': 'fa.gz',\n",
       "   'url': 'https://raw.githubusercontent.com/framazan/files/master/Athaliana_167_TAIR9.fa.gz',\n",
       "   'extra_processing': 'PHYTOZOME_ARABIDOPSIS_V10'}}}"
      ]
     },
     "execution_count": 64,
     "metadata": {},
     "output_type": "execute_result"
    }
   ],
   "source": [
    "with open(BASE_FILE_PATH / 'metadata.yaml', 'w') as fw:\n",
    "    desc = {\n",
    "        'version': 0,\n",
    "        'classes': {\n",
    "            'positive': {\n",
    "                'type': 'fa.gz',\n",
    "                'url': 'https://raw.githubusercontent.com/framazan/files/master/Athaliana_167_TAIR10.cds.fa.gz',\n",
    "                'extra_processing': 'PHYTOZOME_ARABIDOPSIS_V10' \n",
    "            },    \n",
    "            'negative': {\n",
    "                'type': 'fa.gz',\n",
    "                'url': 'https://raw.githubusercontent.com/framazan/files/master/Athaliana_167_TAIR9.fa.gz',\n",
    "                'extra_processing': 'PHYTOZOME_ARABIDOPSIS_V10'\n",
    "            }\n",
    "        }\n",
    "    }\n",
    "    \n",
    "    yaml.dump(desc, fw)\n",
    "\n",
    "desc"
   ]
  },
  {
   "cell_type": "markdown",
   "id": "d34f705e",
   "metadata": {},
   "source": [
    "## Cleaning"
   ]
  },
  {
   "cell_type": "code",
   "execution_count": null,
   "id": "6f4ca24b",
   "metadata": {},
   "outputs": [],
   "source": [
    "!rm positive.csv negative.csv"
   ]
  }
 ],
 "metadata": {
  "kernelspec": {
   "display_name": "Python 3",
   "language": "python",
   "name": "python3"
  },
  "language_info": {
   "codemirror_mode": {
    "name": "ipython",
    "version": 3
   },
   "file_extension": ".py",
   "mimetype": "text/x-python",
   "name": "python",
   "nbconvert_exporter": "python",
   "pygments_lexer": "ipython3",
   "version": "3.10.10"
  }
 },
 "nbformat": 4,
 "nbformat_minor": 5
}
