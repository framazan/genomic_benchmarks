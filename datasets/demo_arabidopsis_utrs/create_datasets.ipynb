{
 "cells": [
  {
   "cell_type": "code",
   "execution_count": 1,
   "id": "eee3c3ee",
   "metadata": {},
   "outputs": [],
   "source": [
    "%load_ext autoreload\n",
    "%autoreload 2"
   ]
  },
  {
   "cell_type": "code",
   "execution_count": 2,
   "id": "a381d940",
   "metadata": {},
   "outputs": [],
   "source": [
    "#from genomic_benchmarks.seq2loc import fasta2loc\n",
    "from sklearn.model_selection import train_test_split\n",
    "import pandas as pd\n",
    "from tqdm.notebook import tqdm\n",
    "from pathlib import Path\n",
    "import yaml\n",
    "import gzip\n",
    "from Bio import SeqIO\n",
    "\n",
    "def _fastagz2dict(fasta_path, fasta_total=None, stop_id=None, region_name_transform=lambda x: x):\n",
    "    # load gzipped fasta into dictionary\n",
    "    fasta = {}\n",
    "\n",
    "    with gzip.open(fasta_path, \"rt\") as handle:\n",
    "        for record in tqdm(SeqIO.parse(handle, \"fasta\"), total=fasta_total):\n",
    "            fasta[region_name_transform(record.id)] = str(record.seq)\n",
    "            if stop_id and (record.id == stop_id):\n",
    "                # stop, do not read small contigs\n",
    "                break\n",
    "    return fasta"
   ]
  },
  {
   "cell_type": "code",
   "execution_count": 3,
   "id": "66bc55da",
   "metadata": {},
   "outputs": [
    {
     "name": "stderr",
     "output_type": "stream",
     "text": [
      "/var/folders/vt/ps2glhjd25l8rvb634fdysnc0000gn/T/ipykernel_42128/3281249210.py:1: TqdmExperimentalWarning: Using `tqdm.autonotebook.tqdm` in notebook mode. Use `tqdm.tqdm` instead to force console mode (e.g. in jupyter console)\n",
      "  from tqdm.autonotebook import tqdm as tdm\n"
     ]
    }
   ],
   "source": [
    "from tqdm.autonotebook import tqdm as tdm\n",
    "\n",
    "def fasta2loc(fasta_path, ref_dict, use_seq_ids=True):\n",
    "\n",
    "    tree = {}\n",
    "    nseqs = 0\n",
    "\n",
    "    # building tree for seq searching\n",
    "    for seq in SeqIO.parse(open(fasta_path, \"r\"), \"fasta\"):\n",
    "        s = str(seq.seq)\n",
    "        rev = str(seq.seq.reverse_complement())\n",
    "        if use_seq_ids:\n",
    "            sname = seq.name\n",
    "        else:\n",
    "            sname = s\n",
    "        nseqs += 1\n",
    "\n",
    "        _update_tree(tree, s, sname, \"+\")\n",
    "        _update_tree(tree, rev, sname, \"-\")\n",
    "\n",
    "    print(f\"{nseqs} sequences read and parsed.\")\n",
    "\n",
    "    results = {}\n",
    "\n",
    "    for chrom in tdm(ref_dict):\n",
    "        curr_positions = []\n",
    "        # print(f\"Processing chrom {chrom}.\")\n",
    "\n",
    "        for i, c in tdm(enumerate(ref_dict[chrom]), total=len(ref_dict[chrom]), leave=False):\n",
    "\n",
    "            prev_positions = curr_positions + [tree]\n",
    "            curr_positions = []\n",
    "\n",
    "            for pos in prev_positions:\n",
    "                if c in pos:\n",
    "                    pos = pos[c]\n",
    "                    curr_positions.append(pos)\n",
    "\n",
    "                    if \"terminal\" in pos:\n",
    "                        results[pos[\"terminal\"][0]] = (chrom, i - pos[\"terminal\"][2] + 1, i + 1, pos[\"terminal\"][1])\n",
    "\n",
    "    print(f\"{len(results.keys())} sequences found in the reference.\")\n",
    "\n",
    "    return results\n",
    "\n",
    "\n",
    "def _update_tree(root, seq_str, seq_name, direction):\n",
    "    # updates tree in `root` with a sequence `seq_str`\n",
    "    position = root\n",
    "\n",
    "    for c in seq_str:\n",
    "        if c in position:\n",
    "            position = position[c]\n",
    "        else:\n",
    "            position[c] = {}\n",
    "            position = position[c]\n",
    "    position[\"terminal\"] = (seq_name, direction, len(seq_str))"
   ]
  },
  {
   "cell_type": "markdown",
   "id": "386ad9fd",
   "metadata": {},
   "source": [
    "## Load genomic reference and download data from GitHub"
   ]
  },
  {
   "cell_type": "code",
   "execution_count": 4,
   "id": "d3bd760b",
   "metadata": {},
   "outputs": [
    {
     "data": {
      "application/vnd.jupyter.widget-view+json": {
       "model_id": "6ac32353c7c64276ab035de3bae87db4",
       "version_major": 2,
       "version_minor": 0
      },
      "text/plain": [
       "0it [00:00, ?it/s]"
      ]
     },
     "metadata": {},
     "output_type": "display_data"
    },
    {
     "data": {
      "text/plain": [
       "dict_keys(['Chr1', 'Chr2', 'Chr3', 'Chr4', 'Chr5'])"
      ]
     },
     "execution_count": 4,
     "metadata": {},
     "output_type": "execute_result"
    }
   ],
   "source": [
    "genome = _fastagz2dict(\"./Athaliana_167_TAIR9.fa.gz\",\n",
    "                      stop_id='Chr5')\n",
    "genome.keys()"
   ]
  },
  {
   "cell_type": "markdown",
   "id": "fa3368e0",
   "metadata": {},
   "source": [
    "## Get promoters"
   ]
  },
  {
   "cell_type": "markdown",
   "id": "d8d34e22",
   "metadata": {},
   "source": [
    "### A few checks"
   ]
  },
  {
   "cell_type": "code",
   "execution_count": 6,
   "id": "3315c207",
   "metadata": {},
   "outputs": [
    {
     "name": "stdout",
     "output_type": "stream",
     "text": [
      "64216 UTRS parsed from the GFF3 file.\n",
      "{'AT1G01010.1.TAIR10.five_prime_UTR.1': ('Chr1', 3631, 3759, '+'), 'AT1G01010.1.TAIR10.three_prime_UTR.1': ('Chr1', 5631, 5899, '+'), 'AT1G01020.1.TAIR10.five_prime_UTR.1': ('Chr1', 8667, 8737, '-'), 'AT1G01020.1.TAIR10.three_prime_UTR.1': ('Chr1', 6437, 6914, '-'), 'AT1G01020.1.TAIR10.three_prime_UTR.2': ('Chr1', 5928, 6263, '-')}\n"
     ]
    }
   ],
   "source": [
    "def gff3_to_dict(gff3_path):\n",
    "    gff_dict = {}\n",
    "    with open(gff3_path, \"r\") as gff3_file:\n",
    "        for line in gff3_file:\n",
    "            # Skip comments and metadata lines\n",
    "            if line.startswith(\"#\"):\n",
    "                continue\n",
    "            \n",
    "            # Parse the line into fields\n",
    "            parts = line.strip().split(\"\\t\")\n",
    "            if len(parts) < 9:\n",
    "                continue\n",
    "            \n",
    "            chrom, source, feature_type, start, end, score, strand, phase, attributes = parts\n",
    "\n",
    "            if int(end) - int(start) < 5:\n",
    "                continue\n",
    "            \n",
    "            # Parse the attributes field into a dictionary\n",
    "            attr_dict = {}\n",
    "            for attr in attributes.split(\";\"):\n",
    "                if \"=\" in attr:\n",
    "                    key, value = attr.split(\"=\", 1)\n",
    "                    attr_dict[key] = value\n",
    "            \n",
    "            # Use the 'ID' attribute as the key if it exists\n",
    "            feature_id = attr_dict.get(\"ID\", f\"{chrom}:{start}-{end}_{feature_type}\")\n",
    "            \n",
    "            if feature_type == 'three_prime_UTR' or feature_type == 'five_prime_UTR':\n",
    "                # Store the feature's details in the dictionary\n",
    "                gff_dict[feature_id] = (chrom, int(start), int(end),strand)\n",
    "    \n",
    "    print(f\"{len(gff_dict)} UTRS parsed from the GFF3 file.\")\n",
    "    return gff_dict\n",
    "\n",
    "# Example usage:\n",
    "gff_dict = gff3_to_dict(\"Athaliana_167_TAIR10.gene_exons.gff3\")\n",
    "print(dict(list(gff_dict.items())[0: 5]))"
   ]
  },
  {
   "cell_type": "code",
   "execution_count": 7,
   "id": "4f104883",
   "metadata": {},
   "outputs": [
    {
     "name": "stdout",
     "output_type": "stream",
     "text": [
      "['AT1G01010.1.TAIR10.five_prime_UTR.1', 'AT1G01010.1.TAIR10.three_prime_UTR.1', 'AT1G01020.1.TAIR10.five_prime_UTR.1']\n"
     ]
    }
   ],
   "source": [
    "import itertools\n",
    "#print 3 randomly selected keys\n",
    "test_keys = list(itertools.islice(gff_dict, 3))\n",
    "print(test_keys)"
   ]
  },
  {
   "cell_type": "code",
   "execution_count": 8,
   "id": "d053d60d",
   "metadata": {},
   "outputs": [
    {
     "data": {
      "text/plain": [
       "('Chr1', 5631, 5899, '+')"
      ]
     },
     "execution_count": 8,
     "metadata": {},
     "output_type": "execute_result"
    }
   ],
   "source": [
    "gff_dict[test_keys[1]]"
   ]
  },
  {
   "cell_type": "code",
   "execution_count": 9,
   "id": "b8848f4e",
   "metadata": {},
   "outputs": [
    {
     "data": {
      "text/plain": [
       "'AGGTCAAATCGGATTCTTGCTCAAAATTTGTATTTCTTAGAATGTGTGTTTTTTTTTGTTTTTTTTTCTTTGCTCTGTTTTCTCGCTCCGGAAAAGTTTGAAGTTATATTTTATTAGTATGTAAAGAAGAGAAAAAGGGGGAAAGAAGAGAGAAGAAAAATGCAGAAAATCATATATATGAATTGGAAAAAAGTATATGTAATAATAATTAGTGCATCGTTTTGTGGTGTAGTTTATATAAATAAAGTGATATATAGTCTTGTATAAG'"
      ]
     },
     "execution_count": 9,
     "metadata": {},
     "output_type": "execute_result"
    }
   ],
   "source": [
    "seq1 = genome['Chr1'][5631:5899]\n",
    "seq1"
   ]
  },
  {
   "cell_type": "code",
   "execution_count": 10,
   "id": "d2a973e5",
   "metadata": {},
   "outputs": [],
   "source": [
    "from Bio.Seq import Seq\n",
    "\n",
    "def _rev(seq, strand):\n",
    "    # reverse complement\n",
    "    if strand == '-':\n",
    "        return str(Seq(seq).reverse_complement())\n",
    "    else:\n",
    "        return seq"
   ]
  },
  {
   "cell_type": "code",
   "execution_count": 11,
   "id": "62fd3e42",
   "metadata": {},
   "outputs": [
    {
     "data": {
      "text/plain": [
       "'CTTATACAAGACTATATATCACTTTATTTATATAAACTACACCACAAAACGATGCACTAATTATTATTACATATACTTTTTTCCAATTCATATATATGATTTTCTGCATTTTTCTTCTCTCTTCTTTCCCCCTTTTTCTCTTCTTTACATACTAATAAAATATAACTTCAAACTTTTCCGGAGCGAGAAAACAGAGCAAAGAAAAAAAAACAAAAAAAAACACACATTCTAAGAAATACAAATTTTGAGCAAGAATCCGATTTGACCT'"
      ]
     },
     "execution_count": 11,
     "metadata": {},
     "output_type": "execute_result"
    }
   ],
   "source": [
    "_rev(seq1, \"-\")"
   ]
  },
  {
   "cell_type": "code",
   "execution_count": 12,
   "id": "60741d93",
   "metadata": {},
   "outputs": [
    {
     "data": {
      "text/html": [
       "<div>\n",
       "<style scoped>\n",
       "    .dataframe tbody tr th:only-of-type {\n",
       "        vertical-align: middle;\n",
       "    }\n",
       "\n",
       "    .dataframe tbody tr th {\n",
       "        vertical-align: top;\n",
       "    }\n",
       "\n",
       "    .dataframe thead th {\n",
       "        text-align: right;\n",
       "    }\n",
       "</style>\n",
       "<table border=\"1\" class=\"dataframe\">\n",
       "  <thead>\n",
       "    <tr style=\"text-align: right;\">\n",
       "      <th></th>\n",
       "      <th>region</th>\n",
       "      <th>start</th>\n",
       "      <th>end</th>\n",
       "      <th>strand</th>\n",
       "    </tr>\n",
       "    <tr>\n",
       "      <th>id</th>\n",
       "      <th></th>\n",
       "      <th></th>\n",
       "      <th></th>\n",
       "      <th></th>\n",
       "    </tr>\n",
       "  </thead>\n",
       "  <tbody>\n",
       "    <tr>\n",
       "      <th>AT1G01010.1.TAIR10.five_prime_UTR.1</th>\n",
       "      <td>Chr1</td>\n",
       "      <td>3631</td>\n",
       "      <td>3759</td>\n",
       "      <td>+</td>\n",
       "    </tr>\n",
       "    <tr>\n",
       "      <th>AT1G01010.1.TAIR10.three_prime_UTR.1</th>\n",
       "      <td>Chr1</td>\n",
       "      <td>5631</td>\n",
       "      <td>5899</td>\n",
       "      <td>+</td>\n",
       "    </tr>\n",
       "    <tr>\n",
       "      <th>AT1G01020.1.TAIR10.five_prime_UTR.1</th>\n",
       "      <td>Chr1</td>\n",
       "      <td>8667</td>\n",
       "      <td>8737</td>\n",
       "      <td>-</td>\n",
       "    </tr>\n",
       "    <tr>\n",
       "      <th>AT1G01020.1.TAIR10.three_prime_UTR.1</th>\n",
       "      <td>Chr1</td>\n",
       "      <td>6437</td>\n",
       "      <td>6914</td>\n",
       "      <td>-</td>\n",
       "    </tr>\n",
       "    <tr>\n",
       "      <th>AT1G01020.1.TAIR10.three_prime_UTR.2</th>\n",
       "      <td>Chr1</td>\n",
       "      <td>5928</td>\n",
       "      <td>6263</td>\n",
       "      <td>-</td>\n",
       "    </tr>\n",
       "  </tbody>\n",
       "</table>\n",
       "</div>"
      ],
      "text/plain": [
       "                                     region  start   end strand\n",
       "id                                                             \n",
       "AT1G01010.1.TAIR10.five_prime_UTR.1    Chr1   3631  3759      +\n",
       "AT1G01010.1.TAIR10.three_prime_UTR.1   Chr1   5631  5899      +\n",
       "AT1G01020.1.TAIR10.five_prime_UTR.1    Chr1   8667  8737      -\n",
       "AT1G01020.1.TAIR10.three_prime_UTR.1   Chr1   6437  6914      -\n",
       "AT1G01020.1.TAIR10.three_prime_UTR.2   Chr1   5928  6263      -"
      ]
     },
     "execution_count": 12,
     "metadata": {},
     "output_type": "execute_result"
    }
   ],
   "source": [
    "utr_df = pd.DataFrame.from_dict(gff_dict, orient='index', columns=['region','start','end','strand']).rename_axis('id')\n",
    "utr_df.to_csv(\"positive.csv\")\n",
    "utr_df.head()"
   ]
  },
  {
   "cell_type": "markdown",
   "id": "5f5defbb",
   "metadata": {},
   "source": [
    "## Get non-UTRS"
   ]
  },
  {
   "cell_type": "code",
   "execution_count": 13,
   "id": "6532cb54",
   "metadata": {},
   "outputs": [
    {
     "name": "stdout",
     "output_type": "stream",
     "text": [
      "{'Chr1': 30427671, 'Chr2': 19698289, 'Chr3': 23459830, 'Chr4': 18585056, 'Chr5': 26975502}\n",
      "Chr4 15014359\n"
     ]
    }
   ],
   "source": [
    "import numpy as np\n",
    "import pandas as pd\n",
    "\n",
    "def get_chr_names_and_lengths(genome):\n",
    "    # Use a dictionary comprehension for faster execution\n",
    "    chr_lengths = {chromosome: len(seq) for chromosome, seq in genome.items()}\n",
    "\n",
    "    # Ensure all lengths are non-zero\n",
    "    if not all(chr_lengths.values()):\n",
    "        raise ValueError(\"All chromosome lengths must be greater than 0.\")\n",
    "\n",
    "    return chr_lengths\n",
    "\n",
    "def get_random_chr(chr_names_and_lengths):\n",
    "    # Pre-compute probabilities and use NumPy for sampling\n",
    "    chr_names = np.array(list(chr_names_and_lengths.keys()))\n",
    "    chr_lengths = np.array(list(chr_names_and_lengths.values()))\n",
    "    chr_probs = chr_lengths / chr_lengths.sum()\n",
    "    \n",
    "    # Use np.random.choice for efficient sampling\n",
    "    return np.random.choice(chr_names, p=chr_probs)\n",
    "\n",
    "def is_intersecting(c, pos, df_forbidden):\n",
    "    # Use vectorized operations with NumPy and Pandas\n",
    "    mask = (df_forbidden['region'] == c) & (df_forbidden['start'] <= pos) & (df_forbidden['end'] >= pos)\n",
    "    return mask.any()\n",
    "\n",
    "def get_random_pos(df_forbidden: pd.DataFrame, chr_names_and_lengths, offset_from_end):\n",
    "    while True:\n",
    "        # Select a random chromosome\n",
    "        c = get_random_chr(chr_names_and_lengths)\n",
    "        c_len = chr_names_and_lengths[c]\n",
    "\n",
    "        # Generate a random position within the valid range\n",
    "        pos = np.random.randint(1, c_len - offset_from_end + 1)\n",
    "\n",
    "        # Check if the position intersects with forbidden regions\n",
    "        if not is_intersecting(c, pos, df_forbidden):\n",
    "            return c, pos\n",
    "\n",
    "chr_names_and_lengths = get_chr_names_and_lengths(genome)\n",
    "print(chr_names_and_lengths)\n",
    "random_chromosome, random_position = get_random_pos(utr_df, chr_names_and_lengths, 0)\n",
    "print(random_chromosome, random_position)"
   ]
  },
  {
   "cell_type": "code",
   "execution_count": 14,
   "id": "903c90b8",
   "metadata": {},
   "outputs": [
    {
     "data": {
      "application/vnd.jupyter.widget-view+json": {
       "model_id": "39ca0c28df0947aa97021082ac93dc26",
       "version_major": 2,
       "version_minor": 0
      },
      "text/plain": [
       "Generating negative samples:   0%|          | 0/64216 [00:00<?, ?it/s]"
      ]
     },
     "metadata": {},
     "output_type": "display_data"
    },
    {
     "data": {
      "text/html": [
       "<div>\n",
       "<style scoped>\n",
       "    .dataframe tbody tr th:only-of-type {\n",
       "        vertical-align: middle;\n",
       "    }\n",
       "\n",
       "    .dataframe tbody tr th {\n",
       "        vertical-align: top;\n",
       "    }\n",
       "\n",
       "    .dataframe thead th {\n",
       "        text-align: right;\n",
       "    }\n",
       "</style>\n",
       "<table border=\"1\" class=\"dataframe\">\n",
       "  <thead>\n",
       "    <tr style=\"text-align: right;\">\n",
       "      <th></th>\n",
       "      <th>region</th>\n",
       "      <th>start</th>\n",
       "      <th>end</th>\n",
       "      <th>strand</th>\n",
       "    </tr>\n",
       "  </thead>\n",
       "  <tbody>\n",
       "    <tr>\n",
       "      <th>0</th>\n",
       "      <td>Chr4</td>\n",
       "      <td>3436630</td>\n",
       "      <td>3436758</td>\n",
       "      <td>+</td>\n",
       "    </tr>\n",
       "    <tr>\n",
       "      <th>1</th>\n",
       "      <td>Chr1</td>\n",
       "      <td>7832231</td>\n",
       "      <td>7832499</td>\n",
       "      <td>+</td>\n",
       "    </tr>\n",
       "    <tr>\n",
       "      <th>2</th>\n",
       "      <td>Chr3</td>\n",
       "      <td>12565705</td>\n",
       "      <td>12565775</td>\n",
       "      <td>+</td>\n",
       "    </tr>\n",
       "    <tr>\n",
       "      <th>3</th>\n",
       "      <td>Chr1</td>\n",
       "      <td>15143773</td>\n",
       "      <td>15144250</td>\n",
       "      <td>+</td>\n",
       "    </tr>\n",
       "    <tr>\n",
       "      <th>4</th>\n",
       "      <td>Chr4</td>\n",
       "      <td>17970124</td>\n",
       "      <td>17970459</td>\n",
       "      <td>+</td>\n",
       "    </tr>\n",
       "    <tr>\n",
       "      <th>...</th>\n",
       "      <td>...</td>\n",
       "      <td>...</td>\n",
       "      <td>...</td>\n",
       "      <td>...</td>\n",
       "    </tr>\n",
       "    <tr>\n",
       "      <th>64211</th>\n",
       "      <td>Chr4</td>\n",
       "      <td>7513821</td>\n",
       "      <td>7513913</td>\n",
       "      <td>+</td>\n",
       "    </tr>\n",
       "    <tr>\n",
       "      <th>64212</th>\n",
       "      <td>Chr5</td>\n",
       "      <td>18161672</td>\n",
       "      <td>18161834</td>\n",
       "      <td>+</td>\n",
       "    </tr>\n",
       "    <tr>\n",
       "      <th>64213</th>\n",
       "      <td>Chr3</td>\n",
       "      <td>721643</td>\n",
       "      <td>722291</td>\n",
       "      <td>+</td>\n",
       "    </tr>\n",
       "    <tr>\n",
       "      <th>64214</th>\n",
       "      <td>Chr2</td>\n",
       "      <td>18746219</td>\n",
       "      <td>18746464</td>\n",
       "      <td>+</td>\n",
       "    </tr>\n",
       "    <tr>\n",
       "      <th>64215</th>\n",
       "      <td>Chr1</td>\n",
       "      <td>5724271</td>\n",
       "      <td>5724605</td>\n",
       "      <td>+</td>\n",
       "    </tr>\n",
       "  </tbody>\n",
       "</table>\n",
       "<p>64216 rows × 4 columns</p>\n",
       "</div>"
      ],
      "text/plain": [
       "      region     start       end strand\n",
       "0       Chr4   3436630   3436758      +\n",
       "1       Chr1   7832231   7832499      +\n",
       "2       Chr3  12565705  12565775      +\n",
       "3       Chr1  15143773  15144250      +\n",
       "4       Chr4  17970124  17970459      +\n",
       "...      ...       ...       ...    ...\n",
       "64211   Chr4   7513821   7513913      +\n",
       "64212   Chr5  18161672  18161834      +\n",
       "64213   Chr3    721643    722291      +\n",
       "64214   Chr2  18746219  18746464      +\n",
       "64215   Chr1   5724271   5724605      +\n",
       "\n",
       "[64216 rows x 4 columns]"
      ]
     },
     "execution_count": 14,
     "metadata": {},
     "output_type": "execute_result"
    }
   ],
   "source": [
    "num_seqs = len(utr_df)\n",
    "negative_samples = [None] * num_seqs\n",
    "for i in tqdm(range(num_seqs), desc=\"Generating negative samples\", mininterval=6):\n",
    "    while True:\n",
    "        seq_length = utr_df.iloc[i]['end'] - utr_df.iloc[i]['start']\n",
    "        chrom, start = get_random_pos(utr_df, chr_names_and_lengths, seq_length)\n",
    "        end = start + seq_length\n",
    "        seq = genome[chrom][start:end]\n",
    "        if 'N' not in seq.upper():\n",
    "            negative_samples[i] = [chrom, start, end, '+']\n",
    "            break\n",
    "neg_df = pd.DataFrame(negative_samples, columns=['region', 'start', 'end', 'strand'])\n",
    "neg_df"
   ]
  },
  {
   "cell_type": "code",
   "execution_count": 16,
   "id": "8be96b0f",
   "metadata": {},
   "outputs": [],
   "source": [
    "neg_df.index.name = \"id\"\n",
    "neg_df.to_csv(\"negative.csv\", index=True)"
   ]
  },
  {
   "cell_type": "code",
   "execution_count": 17,
   "id": "9a703f52",
   "metadata": {},
   "outputs": [],
   "source": [
    "utrs_csv = pd.read_csv(\"positive.csv\")\n",
    "nonutrs_csv = pd.read_csv(\"negative.csv\")"
   ]
  },
  {
   "cell_type": "markdown",
   "id": "c0496e67",
   "metadata": {},
   "source": [
    "## Train/test split"
   ]
  },
  {
   "cell_type": "code",
   "execution_count": 18,
   "id": "2f27f8d0",
   "metadata": {},
   "outputs": [
    {
     "data": {
      "text/plain": [
       "((16054, 5), (16054, 5))"
      ]
     },
     "execution_count": 18,
     "metadata": {},
     "output_type": "execute_result"
    }
   ],
   "source": [
    "train_utrs, train_utrs = train_test_split(utrs_csv, shuffle=True, random_state=42)\n",
    "train_utrs.shape, train_utrs.shape"
   ]
  },
  {
   "cell_type": "code",
   "execution_count": 19,
   "id": "9ef9b7a4",
   "metadata": {},
   "outputs": [
    {
     "data": {
      "text/plain": [
       "((48162, 5), (16054, 5))"
      ]
     },
     "execution_count": 19,
     "metadata": {},
     "output_type": "execute_result"
    }
   ],
   "source": [
    "train_nonutrs, test_nonutrs = train_test_split(nonutrs_csv, shuffle=True, random_state=42)\n",
    "train_nonutrs.shape, test_nonutrs.shape"
   ]
  },
  {
   "cell_type": "markdown",
   "id": "757f1dbc",
   "metadata": {},
   "source": [
    "## YAML file"
   ]
  },
  {
   "cell_type": "code",
   "execution_count": 20,
   "id": "851f592d",
   "metadata": {},
   "outputs": [],
   "source": [
    "BASE_FILE_PATH = Path(\"../../datasets/demo_arabidopsis_utrs/\")\n",
    "\n",
    "(BASE_FILE_PATH / 'train').mkdir()\n",
    "(BASE_FILE_PATH / 'test').mkdir()"
   ]
  },
  {
   "cell_type": "code",
   "execution_count": 21,
   "id": "c30679b8",
   "metadata": {},
   "outputs": [
    {
     "data": {
      "text/plain": [
       "{'version': 0,\n",
       " 'classes': {'positive': {'type': 'fa.gz',\n",
       "   'url': 'https://raw.githubusercontent.com/framazan/files/master/Athaliana_167_TAIR9.fa.gz'},\n",
       "  'negative': {'type': 'fa.gz',\n",
       "   'url': 'https://raw.githubusercontent.com/framazan/files/master/Athaliana_167_TAIR9.fa.gz'}}}"
      ]
     },
     "execution_count": 21,
     "metadata": {},
     "output_type": "execute_result"
    }
   ],
   "source": [
    "with open(BASE_FILE_PATH / 'metadata.yaml', 'w') as fw:\n",
    "    desc = {\n",
    "        'version': 0,\n",
    "        'classes': {\n",
    "            'positive': {\n",
    "                'type': 'fa.gz',\n",
    "                'url': 'https://raw.githubusercontent.com/framazan/files/master/Athaliana_167_TAIR9.fa.gz',\n",
    "            },    \n",
    "            'negative': {\n",
    "                'type': 'fa.gz',\n",
    "                'url': 'https://raw.githubusercontent.com/framazan/files/master/Athaliana_167_TAIR9.fa.gz',\n",
    "            }\n",
    "        }\n",
    "    }\n",
    "    \n",
    "    yaml.dump(desc, fw)\n",
    "\n",
    "desc"
   ]
  },
  {
   "cell_type": "markdown",
   "id": "0388ef76",
   "metadata": {},
   "source": [
    "## CSV files"
   ]
  },
  {
   "cell_type": "code",
   "execution_count": 22,
   "id": "daefc3c6",
   "metadata": {},
   "outputs": [],
   "source": [
    "train_utrs.to_csv(BASE_FILE_PATH / 'train' / 'positive.csv.gz', index=False, compression='gzip')\n",
    "train_nonutrs.to_csv(BASE_FILE_PATH / 'train' / 'negative.csv.gz', index=False, compression='gzip')\n",
    "train_utrs.to_csv(BASE_FILE_PATH / 'test' / 'positive.csv.gz', index=False, compression='gzip')\n",
    "test_nonutrs.to_csv(BASE_FILE_PATH / 'test' / 'negative.csv.gz', index=False, compression='gzip')"
   ]
  },
  {
   "cell_type": "markdown",
   "id": "d34f705e",
   "metadata": {},
   "source": [
    "## Cleaning"
   ]
  },
  {
   "cell_type": "code",
   "execution_count": 23,
   "id": "6f4ca24b",
   "metadata": {},
   "outputs": [],
   "source": [
    "!rm positive.csv negative.csv"
   ]
  }
 ],
 "metadata": {
  "kernelspec": {
   "display_name": "Python 3",
   "language": "python",
   "name": "python3"
  },
  "language_info": {
   "codemirror_mode": {
    "name": "ipython",
    "version": 3
   },
   "file_extension": ".py",
   "mimetype": "text/x-python",
   "name": "python",
   "nbconvert_exporter": "python",
   "pygments_lexer": "ipython3",
   "version": "3.10.10"
  }
 },
 "nbformat": 4,
 "nbformat_minor": 5
}
