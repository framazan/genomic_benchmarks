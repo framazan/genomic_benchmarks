{
 "cells": [
  {
   "cell_type": "code",
   "execution_count": 8,
   "id": "eee3c3ee",
   "metadata": {},
   "outputs": [],
   "source": [
    "%load_ext autoreload\n",
    "%autoreload 2"
   ]
  },
  {
   "cell_type": "code",
   "execution_count": 9,
   "id": "a381d940",
   "metadata": {},
   "outputs": [],
   "source": [
    "#from genomic_benchmarks.seq2loc import fasta2loc\n",
    "from sklearn.model_selection import train_test_split\n",
    "import pandas as pd\n",
    "from tqdm.notebook import tqdm\n",
    "from pathlib import Path\n",
    "import yaml\n",
    "import gzip\n",
    "from Bio import SeqIO\n",
    "\n",
    "def _fastagz2dict(fasta_path, fasta_total=None, stop_id=None, region_name_transform=lambda x: x):\n",
    "    # load gzipped fasta into dictionary\n",
    "    fasta = {}\n",
    "\n",
    "    with gzip.open(fasta_path, \"rt\") as handle:\n",
    "        for record in tqdm(SeqIO.parse(handle, \"fasta\"), total=fasta_total):\n",
    "            fasta[region_name_transform(record.id)] = str(record.seq)\n",
    "            if stop_id and (record.id == stop_id):\n",
    "                # stop, do not read small contigs\n",
    "                break\n",
    "    return fasta"
   ]
  },
  {
   "cell_type": "code",
   "execution_count": 10,
   "id": "66bc55da",
   "metadata": {},
   "outputs": [
    {
     "name": "stderr",
     "output_type": "stream",
     "text": [
      "/var/folders/vt/ps2glhjd25l8rvb634fdysnc0000gn/T/ipykernel_18029/3281249210.py:1: TqdmExperimentalWarning: Using `tqdm.autonotebook.tqdm` in notebook mode. Use `tqdm.tqdm` instead to force console mode (e.g. in jupyter console)\n",
      "  from tqdm.autonotebook import tqdm as tdm\n"
     ]
    }
   ],
   "source": [
    "from tqdm.autonotebook import tqdm as tdm\n",
    "\n",
    "def fasta2loc(fasta_path, ref_dict, use_seq_ids=True):\n",
    "\n",
    "    tree = {}\n",
    "    nseqs = 0\n",
    "\n",
    "    # building tree for seq searching\n",
    "    for seq in SeqIO.parse(open(fasta_path, \"r\"), \"fasta\"):\n",
    "        s = str(seq.seq)\n",
    "        rev = str(seq.seq.reverse_complement())\n",
    "        if use_seq_ids:\n",
    "            sname = seq.name\n",
    "        else:\n",
    "            sname = s\n",
    "        nseqs += 1\n",
    "\n",
    "        _update_tree(tree, s, sname, \"+\")\n",
    "        _update_tree(tree, rev, sname, \"-\")\n",
    "\n",
    "    print(f\"{nseqs} sequences read and parsed.\")\n",
    "\n",
    "    results = {}\n",
    "\n",
    "    for chrom in tdm(ref_dict):\n",
    "        curr_positions = []\n",
    "        # print(f\"Processing chrom {chrom}.\")\n",
    "\n",
    "        for i, c in tdm(enumerate(ref_dict[chrom]), total=len(ref_dict[chrom]), leave=False):\n",
    "\n",
    "            prev_positions = curr_positions + [tree]\n",
    "            curr_positions = []\n",
    "\n",
    "            for pos in prev_positions:\n",
    "                if c in pos:\n",
    "                    pos = pos[c]\n",
    "                    curr_positions.append(pos)\n",
    "\n",
    "                    if \"terminal\" in pos:\n",
    "                        results[pos[\"terminal\"][0]] = (chrom, i - pos[\"terminal\"][2] + 1, i + 1, pos[\"terminal\"][1])\n",
    "\n",
    "    print(f\"{len(results.keys())} sequences found in the reference.\")\n",
    "\n",
    "    return results\n",
    "\n",
    "\n",
    "def _update_tree(root, seq_str, seq_name, direction):\n",
    "    # updates tree in `root` with a sequence `seq_str`\n",
    "    position = root\n",
    "\n",
    "    for c in seq_str:\n",
    "        if c in position:\n",
    "            position = position[c]\n",
    "        else:\n",
    "            position[c] = {}\n",
    "            position = position[c]\n",
    "    position[\"terminal\"] = (seq_name, direction, len(seq_str))"
   ]
  },
  {
   "cell_type": "markdown",
   "id": "386ad9fd",
   "metadata": {},
   "source": [
    "## Load genomic reference and download data from GitHub"
   ]
  },
  {
   "cell_type": "code",
   "execution_count": 11,
   "id": "d3bd760b",
   "metadata": {},
   "outputs": [
    {
     "data": {
      "application/vnd.jupyter.widget-view+json": {
       "model_id": "6e36b303fda64bd6a8cf2a76ef4e9176",
       "version_major": 2,
       "version_minor": 0
      },
      "text/plain": [
       "0it [00:00, ?it/s]"
      ]
     },
     "metadata": {},
     "output_type": "display_data"
    },
    {
     "data": {
      "text/plain": [
       "dict_keys(['Chr1', 'Chr2', 'Chr3', 'Chr4', 'Chr5'])"
      ]
     },
     "execution_count": 11,
     "metadata": {},
     "output_type": "execute_result"
    }
   ],
   "source": [
    "genome = _fastagz2dict(\"./Athaliana_167_TAIR9.fa.gz\",\n",
    "                      stop_id='Chr5')\n",
    "genome.keys()"
   ]
  },
  {
   "cell_type": "markdown",
   "id": "fa3368e0",
   "metadata": {},
   "source": [
    "## Get promoters"
   ]
  },
  {
   "cell_type": "markdown",
   "id": "d8d34e22",
   "metadata": {},
   "source": [
    "### A few checks"
   ]
  },
  {
   "cell_type": "code",
   "execution_count": 12,
   "id": "3315c207",
   "metadata": {},
   "outputs": [
    {
     "name": "stdout",
     "output_type": "stream",
     "text": [
      "207465 exons parsed from the GFF3 file.\n",
      "{'AT1G01010.1.TAIR10.exon.1': ('Chr1', 3631, 3913, '+'), 'AT1G01010.1.TAIR10.exon.2': ('Chr1', 3996, 4276, '+'), 'AT1G01010.1.TAIR10.exon.3': ('Chr1', 4486, 4605, '+'), 'AT1G01010.1.TAIR10.exon.4': ('Chr1', 4706, 5095, '+'), 'AT1G01010.1.TAIR10.exon.5': ('Chr1', 5174, 5326, '+')}\n"
     ]
    }
   ],
   "source": [
    "def gff3_to_dict(gff3_path):\n",
    "    gff_dict = {}\n",
    "    with open(gff3_path, \"r\") as gff3_file:\n",
    "        for line in gff3_file:\n",
    "            # Skip comments and metadata lines\n",
    "            if line.startswith(\"#\"):\n",
    "                continue\n",
    "            \n",
    "            # Parse the line into fields\n",
    "            parts = line.strip().split(\"\\t\")\n",
    "            if len(parts) < 9:\n",
    "                continue\n",
    "            \n",
    "            chrom, source, feature_type, start, end, score, strand, phase, attributes = parts\n",
    "            \n",
    "            # Parse the attributes field into a dictionary\n",
    "            attr_dict = {}\n",
    "            for attr in attributes.split(\";\"):\n",
    "                if \"=\" in attr:\n",
    "                    key, value = attr.split(\"=\", 1)\n",
    "                    attr_dict[key] = value\n",
    "            \n",
    "            # Use the 'ID' attribute as the key if it exists\n",
    "            feature_id = attr_dict.get(\"ID\", f\"{chrom}:{start}-{end}_{feature_type}\")\n",
    "            \n",
    "            if feature_type == \"exon\":\n",
    "                # Store the feature's details in the dictionary\n",
    "                gff_dict[feature_id] = (chrom, int(start), int(end),strand)\n",
    "    \n",
    "    print(f\"{len(gff_dict)} exons parsed from the GFF3 file.\")\n",
    "    return gff_dict\n",
    "\n",
    "# Example usage:\n",
    "gff_dict = gff3_to_dict(\"Athaliana_167_TAIR10.gene_exons.gff3\")\n",
    "print(dict(list(gff_dict.items())[0: 5]))"
   ]
  },
  {
   "cell_type": "code",
   "execution_count": 13,
   "id": "4f104883",
   "metadata": {},
   "outputs": [
    {
     "name": "stdout",
     "output_type": "stream",
     "text": [
      "['AT1G01010.1.TAIR10.exon.1', 'AT1G01010.1.TAIR10.exon.2', 'AT1G01010.1.TAIR10.exon.3']\n"
     ]
    }
   ],
   "source": [
    "import itertools\n",
    "#print 3 randomly selected keys\n",
    "test_keys = list(itertools.islice(gff_dict, 3))\n",
    "print(test_keys)"
   ]
  },
  {
   "cell_type": "code",
   "execution_count": 14,
   "id": "d053d60d",
   "metadata": {},
   "outputs": [
    {
     "data": {
      "text/plain": [
       "('Chr1', 3996, 4276, '+')"
      ]
     },
     "execution_count": 14,
     "metadata": {},
     "output_type": "execute_result"
    }
   ],
   "source": [
    "gff_dict[test_keys[1]]"
   ]
  },
  {
   "cell_type": "code",
   "execution_count": 15,
   "id": "b8848f4e",
   "metadata": {},
   "outputs": [
    {
     "data": {
      "text/plain": [
       "'CCAGTCAAAGTACAAATCGAGAGATGCTATGTGGTACTTCTTCTCTCGTAGAGAAAACAACAAAGGGAATCGACAGAGCAGGACAACGGTTTCTGGTAAATGGAAGCTTACCGGAGAATCTGTTGAGGTCAAGGACCAGTGGGGATTTTGTAGTGAGGGCTTTCGTGGTAAGATTGGTCATAAAAGGGTTTTGGTGTTCCTCGATGGAAGATACCCTGACAAAACCAAATCTGATTGGGTTATCCACGAGTTCCACTACGACCTCTTACCAGAACATCAG'"
      ]
     },
     "execution_count": 15,
     "metadata": {},
     "output_type": "execute_result"
    }
   ],
   "source": [
    "genome['Chr1'][3996:4276]"
   ]
  },
  {
   "cell_type": "code",
   "execution_count": 16,
   "id": "d2a973e5",
   "metadata": {},
   "outputs": [],
   "source": [
    "from Bio.Seq import Seq\n",
    "\n",
    "def _rev(seq, strand):\n",
    "    # reverse complement\n",
    "    if strand == '-':\n",
    "        return str(Seq(seq).reverse_complement())\n",
    "    else:\n",
    "        return seq"
   ]
  },
  {
   "cell_type": "code",
   "execution_count": 21,
   "id": "62fd3e42",
   "metadata": {},
   "outputs": [
    {
     "data": {
      "text/plain": [
       "'CTGATGTTCTGGTAAGAGGTCGTAGTGGAACTCGTGGATAACCCAATCAGATTTGGTTTTGTCAGGGTATCTTCCATCGAGGAACACCAAAACCCTTTTATGACCAATCTTACCACGAAAGCCCTCACTACAAAATCCCCACTGGTCCTTGACCTCAACAGATTCTCCGGTAAGCTTCCATTTACCAGAAACCGTTGTCCTGCTCTGTCGATTCCCTTTGTTGTTTTCTCTACGAGAGAAGAAGTACCACATAGCATCTCTCGATTTGTACTTTGACTGG'"
      ]
     },
     "execution_count": 21,
     "metadata": {},
     "output_type": "execute_result"
    }
   ],
   "source": [
    "_rev(genome['Chr1'][3996:4276], \"-\")"
   ]
  },
  {
   "cell_type": "code",
   "execution_count": 22,
   "id": "60741d93",
   "metadata": {},
   "outputs": [
    {
     "data": {
      "text/html": [
       "<div>\n",
       "<style scoped>\n",
       "    .dataframe tbody tr th:only-of-type {\n",
       "        vertical-align: middle;\n",
       "    }\n",
       "\n",
       "    .dataframe tbody tr th {\n",
       "        vertical-align: top;\n",
       "    }\n",
       "\n",
       "    .dataframe thead th {\n",
       "        text-align: right;\n",
       "    }\n",
       "</style>\n",
       "<table border=\"1\" class=\"dataframe\">\n",
       "  <thead>\n",
       "    <tr style=\"text-align: right;\">\n",
       "      <th></th>\n",
       "      <th>region</th>\n",
       "      <th>start</th>\n",
       "      <th>end</th>\n",
       "      <th>strand</th>\n",
       "    </tr>\n",
       "    <tr>\n",
       "      <th>id</th>\n",
       "      <th></th>\n",
       "      <th></th>\n",
       "      <th></th>\n",
       "      <th></th>\n",
       "    </tr>\n",
       "  </thead>\n",
       "  <tbody>\n",
       "    <tr>\n",
       "      <th>AT1G01010.1.TAIR10.exon.1</th>\n",
       "      <td>Chr1</td>\n",
       "      <td>3631</td>\n",
       "      <td>3913</td>\n",
       "      <td>+</td>\n",
       "    </tr>\n",
       "    <tr>\n",
       "      <th>AT1G01010.1.TAIR10.exon.2</th>\n",
       "      <td>Chr1</td>\n",
       "      <td>3996</td>\n",
       "      <td>4276</td>\n",
       "      <td>+</td>\n",
       "    </tr>\n",
       "    <tr>\n",
       "      <th>AT1G01010.1.TAIR10.exon.3</th>\n",
       "      <td>Chr1</td>\n",
       "      <td>4486</td>\n",
       "      <td>4605</td>\n",
       "      <td>+</td>\n",
       "    </tr>\n",
       "    <tr>\n",
       "      <th>AT1G01010.1.TAIR10.exon.4</th>\n",
       "      <td>Chr1</td>\n",
       "      <td>4706</td>\n",
       "      <td>5095</td>\n",
       "      <td>+</td>\n",
       "    </tr>\n",
       "    <tr>\n",
       "      <th>AT1G01010.1.TAIR10.exon.5</th>\n",
       "      <td>Chr1</td>\n",
       "      <td>5174</td>\n",
       "      <td>5326</td>\n",
       "      <td>+</td>\n",
       "    </tr>\n",
       "  </tbody>\n",
       "</table>\n",
       "</div>"
      ],
      "text/plain": [
       "                          region  start   end strand\n",
       "id                                                  \n",
       "AT1G01010.1.TAIR10.exon.1   Chr1   3631  3913      +\n",
       "AT1G01010.1.TAIR10.exon.2   Chr1   3996  4276      +\n",
       "AT1G01010.1.TAIR10.exon.3   Chr1   4486  4605      +\n",
       "AT1G01010.1.TAIR10.exon.4   Chr1   4706  5095      +\n",
       "AT1G01010.1.TAIR10.exon.5   Chr1   5174  5326      +"
      ]
     },
     "execution_count": 22,
     "metadata": {},
     "output_type": "execute_result"
    }
   ],
   "source": [
    "exon_df = pd.DataFrame.from_dict(gff_dict, orient='index', columns=['region','start','end','strand']).rename_axis('id')\n",
    "exon_df.to_csv(\"positive.csv\")\n",
    "exon_df.head()"
   ]
  },
  {
   "cell_type": "markdown",
   "id": "5f5defbb",
   "metadata": {},
   "source": [
    "## Get non-promoters"
   ]
  },
  {
   "cell_type": "code",
   "execution_count": null,
   "id": "956cfd3b",
   "metadata": {},
   "outputs": [
    {
     "name": "stdout",
     "output_type": "stream",
     "text": [
      "{'Chr1': 30427671, 'Chr2': 19698289, 'Chr3': 23459830, 'Chr4': 18585056, 'Chr5': 26975502}\n"
     ]
    },
    {
     "data": {
      "text/plain": [
       "('Chr1', 26722193)"
      ]
     },
     "execution_count": 24,
     "metadata": {},
     "output_type": "execute_result"
    }
   ],
   "source": [
    "import numpy as np\n",
    "def get_chr_names_and_lengths():\n",
    "    chr_lengths = {}\n",
    "    for chromosome in genome.keys():\n",
    "        chr_lengths[chromosome] = len(genome[chromosome])\n",
    "\n",
    "    # check that all lengths are different from 0\n",
    "    assert all(x != 0 for x in chr_lengths.values())\n",
    "\n",
    "    return chr_lengths\n",
    "\n",
    "def get_random_chr(chr_names_and_lengths):\n",
    "    chr_lengths = pd.Series(chr_names_and_lengths.values())\n",
    "    chr_probs = chr_lengths / chr_lengths.sum()\n",
    "    chr_names = list(chr_names_and_lengths.keys())\n",
    "    return chr_names[np.argwhere(np.random.multinomial(1, chr_probs))[0][0]]\n",
    "\n",
    "\n",
    "def is_intersecting(c, pos, df_forbidden):\n",
    "    intersecting = (df_forbidden['region'] == c) & (df_forbidden['start'].astype(int) <= pos) & (\n",
    "                df_forbidden['end'].astype(int) >= pos)\n",
    "    return intersecting.any()\n",
    "\n",
    "\n",
    "def get_random_pos(df_forbidden: pd.DataFrame, chr_names_and_lengths, offset_from_end):\n",
    "    c = get_random_chr(chr_names_and_lengths)\n",
    "    c_len = chr_names_and_lengths[c]\n",
    "    pos = np.random.randint(c_len - offset_from_end) + 1\n",
    "\n",
    "    while is_intersecting(c, pos, df_forbidden):\n",
    "        pos = np.random.randint(c_len) + 1\n",
    "\n",
    "    return c, pos\n",
    "\n",
    "chr_names_and_lengths = get_chr_names_and_lengths()\n",
    "print(chr_names_and_lengths)\n",
    "get_random_pos(exon_df, chr_names_and_lengths, 0)"
   ]
  },
  {
   "cell_type": "code",
   "execution_count": 30,
   "id": "6532cb54",
   "metadata": {},
   "outputs": [
    {
     "name": "stdout",
     "output_type": "stream",
     "text": [
      "{'Chr1': 30427671, 'Chr2': 19698289, 'Chr3': 23459830, 'Chr4': 18585056, 'Chr5': 26975502}\n",
      "Chr5 3280448\n"
     ]
    }
   ],
   "source": [
    "import numpy as np\n",
    "import pandas as pd\n",
    "\n",
    "def get_chr_names_and_lengths(genome):\n",
    "    # Use a dictionary comprehension for faster execution\n",
    "    chr_lengths = {chromosome: len(seq) for chromosome, seq in genome.items()}\n",
    "\n",
    "    # Ensure all lengths are non-zero\n",
    "    if not all(chr_lengths.values()):\n",
    "        raise ValueError(\"All chromosome lengths must be greater than 0.\")\n",
    "\n",
    "    return chr_lengths\n",
    "\n",
    "def get_random_chr(chr_names_and_lengths):\n",
    "    # Pre-compute probabilities and use NumPy for sampling\n",
    "    chr_names = np.array(list(chr_names_and_lengths.keys()))\n",
    "    chr_lengths = np.array(list(chr_names_and_lengths.values()))\n",
    "    chr_probs = chr_lengths / chr_lengths.sum()\n",
    "    \n",
    "    # Use np.random.choice for efficient sampling\n",
    "    return np.random.choice(chr_names, p=chr_probs)\n",
    "\n",
    "def is_intersecting(c, pos, df_forbidden):\n",
    "    # Use vectorized operations with NumPy and Pandas\n",
    "    mask = (df_forbidden['region'] == c) & (df_forbidden['start'] <= pos) & (df_forbidden['end'] >= pos)\n",
    "    return mask.any()\n",
    "\n",
    "def get_random_pos(df_forbidden: pd.DataFrame, chr_names_and_lengths, offset_from_end):\n",
    "    while True:\n",
    "        # Select a random chromosome\n",
    "        c = get_random_chr(chr_names_and_lengths)\n",
    "        c_len = chr_names_and_lengths[c]\n",
    "\n",
    "        # Generate a random position within the valid range\n",
    "        pos = np.random.randint(1, c_len - offset_from_end + 1)\n",
    "\n",
    "        # Check if the position intersects with forbidden regions\n",
    "        if not is_intersecting(c, pos, df_forbidden):\n",
    "            return c, pos\n",
    "\n",
    "chr_names_and_lengths = get_chr_names_and_lengths(genome)\n",
    "print(chr_names_and_lengths)\n",
    "random_chromosome, random_position = get_random_pos(exon_df, chr_names_and_lengths, 0)\n",
    "print(random_chromosome, random_position)"
   ]
  },
  {
   "cell_type": "code",
   "execution_count": 31,
   "id": "903c90b8",
   "metadata": {},
   "outputs": [
    {
     "name": "stdout",
     "output_type": "stream",
     "text": [
      "Generated 0 negative samples\n",
      "Generated 3000 negative samples\n",
      "Generated 6000 negative samples\n",
      "Generated 9000 negative samples\n",
      "Generated 12000 negative samples\n",
      "Generated 15000 negative samples\n",
      "Generated 18000 negative samples\n",
      "Generated 21000 negative samples\n",
      "Generated 24000 negative samples\n",
      "Generated 27000 negative samples\n",
      "Generated 30000 negative samples\n",
      "Generated 33000 negative samples\n",
      "Generated 36000 negative samples\n",
      "Generated 39000 negative samples\n",
      "Generated 42000 negative samples\n",
      "Generated 45000 negative samples\n",
      "Generated 48000 negative samples\n",
      "Generated 51000 negative samples\n",
      "Generated 54000 negative samples\n",
      "Generated 57000 negative samples\n",
      "Generated 60000 negative samples\n",
      "Generated 63000 negative samples\n",
      "Generated 66000 negative samples\n",
      "Generated 69000 negative samples\n",
      "Generated 72000 negative samples\n",
      "Generated 75000 negative samples\n",
      "Generated 78000 negative samples\n",
      "Generated 81000 negative samples\n",
      "Generated 84000 negative samples\n",
      "Generated 87000 negative samples\n",
      "Generated 90000 negative samples\n",
      "Generated 93000 negative samples\n",
      "Generated 96000 negative samples\n",
      "Generated 99000 negative samples\n",
      "Generated 102000 negative samples\n",
      "Generated 105000 negative samples\n",
      "Generated 108000 negative samples\n",
      "Generated 111000 negative samples\n",
      "Generated 114000 negative samples\n",
      "Generated 117000 negative samples\n",
      "Generated 120000 negative samples\n",
      "Generated 123000 negative samples\n",
      "Generated 126000 negative samples\n",
      "Generated 129000 negative samples\n",
      "Generated 132000 negative samples\n",
      "Generated 135000 negative samples\n",
      "Generated 138000 negative samples\n",
      "Generated 141000 negative samples\n",
      "Generated 144000 negative samples\n",
      "Generated 147000 negative samples\n",
      "Generated 150000 negative samples\n",
      "Generated 153000 negative samples\n",
      "Generated 156000 negative samples\n",
      "Generated 159000 negative samples\n",
      "Generated 162000 negative samples\n",
      "Generated 165000 negative samples\n",
      "Generated 168000 negative samples\n",
      "Generated 171000 negative samples\n",
      "Generated 174000 negative samples\n",
      "Generated 177000 negative samples\n",
      "Generated 180000 negative samples\n",
      "Generated 183000 negative samples\n",
      "Generated 186000 negative samples\n",
      "Generated 189000 negative samples\n",
      "Generated 192000 negative samples\n",
      "Generated 195000 negative samples\n",
      "Generated 198000 negative samples\n",
      "Generated 201000 negative samples\n",
      "Generated 204000 negative samples\n",
      "Generated 207000 negative samples\n"
     ]
    },
    {
     "data": {
      "text/html": [
       "<div>\n",
       "<style scoped>\n",
       "    .dataframe tbody tr th:only-of-type {\n",
       "        vertical-align: middle;\n",
       "    }\n",
       "\n",
       "    .dataframe tbody tr th {\n",
       "        vertical-align: top;\n",
       "    }\n",
       "\n",
       "    .dataframe thead th {\n",
       "        text-align: right;\n",
       "    }\n",
       "</style>\n",
       "<table border=\"1\" class=\"dataframe\">\n",
       "  <thead>\n",
       "    <tr style=\"text-align: right;\">\n",
       "      <th></th>\n",
       "      <th>region</th>\n",
       "      <th>start</th>\n",
       "      <th>end</th>\n",
       "      <th>strand</th>\n",
       "    </tr>\n",
       "  </thead>\n",
       "  <tbody>\n",
       "    <tr>\n",
       "      <th>0</th>\n",
       "      <td>Chr4</td>\n",
       "      <td>9698114</td>\n",
       "      <td>9698396</td>\n",
       "      <td>+</td>\n",
       "    </tr>\n",
       "    <tr>\n",
       "      <th>1</th>\n",
       "      <td>Chr2</td>\n",
       "      <td>13818447</td>\n",
       "      <td>13818727</td>\n",
       "      <td>+</td>\n",
       "    </tr>\n",
       "    <tr>\n",
       "      <th>2</th>\n",
       "      <td>Chr1</td>\n",
       "      <td>23336566</td>\n",
       "      <td>23336685</td>\n",
       "      <td>+</td>\n",
       "    </tr>\n",
       "    <tr>\n",
       "      <th>3</th>\n",
       "      <td>Chr4</td>\n",
       "      <td>6120321</td>\n",
       "      <td>6120710</td>\n",
       "      <td>+</td>\n",
       "    </tr>\n",
       "    <tr>\n",
       "      <th>4</th>\n",
       "      <td>Chr2</td>\n",
       "      <td>1588104</td>\n",
       "      <td>1588256</td>\n",
       "      <td>+</td>\n",
       "    </tr>\n",
       "    <tr>\n",
       "      <th>...</th>\n",
       "      <td>...</td>\n",
       "      <td>...</td>\n",
       "      <td>...</td>\n",
       "      <td>...</td>\n",
       "    </tr>\n",
       "    <tr>\n",
       "      <th>207460</th>\n",
       "      <td>Chr2</td>\n",
       "      <td>589686</td>\n",
       "      <td>590123</td>\n",
       "      <td>+</td>\n",
       "    </tr>\n",
       "    <tr>\n",
       "      <th>207461</th>\n",
       "      <td>Chr1</td>\n",
       "      <td>15297434</td>\n",
       "      <td>15299017</td>\n",
       "      <td>+</td>\n",
       "    </tr>\n",
       "    <tr>\n",
       "      <th>207462</th>\n",
       "      <td>Chr1</td>\n",
       "      <td>583489</td>\n",
       "      <td>583824</td>\n",
       "      <td>+</td>\n",
       "    </tr>\n",
       "    <tr>\n",
       "      <th>207463</th>\n",
       "      <td>Chr1</td>\n",
       "      <td>57257</td>\n",
       "      <td>57574</td>\n",
       "      <td>+</td>\n",
       "    </tr>\n",
       "    <tr>\n",
       "      <th>207464</th>\n",
       "      <td>Chr5</td>\n",
       "      <td>10733347</td>\n",
       "      <td>10733961</td>\n",
       "      <td>+</td>\n",
       "    </tr>\n",
       "  </tbody>\n",
       "</table>\n",
       "<p>207465 rows × 4 columns</p>\n",
       "</div>"
      ],
      "text/plain": [
       "       region     start       end strand\n",
       "0        Chr4   9698114   9698396      +\n",
       "1        Chr2  13818447  13818727      +\n",
       "2        Chr1  23336566  23336685      +\n",
       "3        Chr4   6120321   6120710      +\n",
       "4        Chr2   1588104   1588256      +\n",
       "...       ...       ...       ...    ...\n",
       "207460   Chr2    589686    590123      +\n",
       "207461   Chr1  15297434  15299017      +\n",
       "207462   Chr1    583489    583824      +\n",
       "207463   Chr1     57257     57574      +\n",
       "207464   Chr5  10733347  10733961      +\n",
       "\n",
       "[207465 rows x 4 columns]"
      ]
     },
     "execution_count": 31,
     "metadata": {},
     "output_type": "execute_result"
    }
   ],
   "source": [
    "num_seqs = len(exon_df)\n",
    "negative_samples = [None] * num_seqs\n",
    "for i in range(num_seqs):\n",
    "    while True:\n",
    "        seq_length = exon_df.iloc[i]['end'] - exon_df.iloc[i]['start']\n",
    "        chrom, start = get_random_pos(exon_df, chr_names_and_lengths, seq_length)\n",
    "        end = start + seq_length\n",
    "        seq = genome[chrom][start:end]\n",
    "        if 'N' not in seq.upper():\n",
    "            negative_samples[i] = [chrom, start, end, '+']\n",
    "            break\n",
    "    if i % 3000 == 0:\n",
    "        print(f\"Generated {i} negative samples\")\n",
    "neg_df = pd.DataFrame(negative_samples, columns=['region', 'start', 'end', 'strand'])\n",
    "neg_df"
   ]
  },
  {
   "cell_type": "code",
   "execution_count": 32,
   "id": "8be96b0f",
   "metadata": {},
   "outputs": [],
   "source": [
    "neg_df.index.name = \"id\"\n",
    "neg_df.to_csv(\"negative.csv\", index=True)"
   ]
  },
  {
   "cell_type": "code",
   "execution_count": null,
   "id": "9a703f52",
   "metadata": {},
   "outputs": [],
   "source": [
    "exons = pd.read_csv(\"positive.csv\")\n",
    "non_exons = pd.read_csv(\"negative.csv\")\n",
    "\n",
    "exons['region'] = \"chr\" + exons['region']\n",
    "non_exons['region'] = \"chr\" + non_exons['region']"
   ]
  },
  {
   "cell_type": "markdown",
   "id": "c0496e67",
   "metadata": {},
   "source": [
    "## Train/test split"
   ]
  },
  {
   "cell_type": "code",
   "execution_count": null,
   "id": "2f27f8d0",
   "metadata": {},
   "outputs": [
    {
     "data": {
      "text/plain": [
       "((155598, 5), (51867, 5))"
      ]
     },
     "execution_count": 34,
     "metadata": {},
     "output_type": "execute_result"
    }
   ],
   "source": [
    "train_exons, test_exons = train_test_split(exons, shuffle=True, random_state=42)\n",
    "train_exons.shape, test_exons.shape"
   ]
  },
  {
   "cell_type": "code",
   "execution_count": null,
   "id": "9ef9b7a4",
   "metadata": {},
   "outputs": [
    {
     "data": {
      "text/plain": [
       "((155598, 5), (51867, 5))"
      ]
     },
     "execution_count": 35,
     "metadata": {},
     "output_type": "execute_result"
    }
   ],
   "source": [
    "train_nonexons, test_nonexons = train_test_split(non_exons, shuffle=True, random_state=42)\n",
    "train_nonexons.shape, test_nonexons.shape"
   ]
  },
  {
   "cell_type": "markdown",
   "id": "757f1dbc",
   "metadata": {},
   "source": [
    "## YAML file"
   ]
  },
  {
   "cell_type": "code",
   "execution_count": 37,
   "id": "851f592d",
   "metadata": {},
   "outputs": [],
   "source": [
    "BASE_FILE_PATH = Path(\"../../datasets/demo_arabidopsis_exons/\")\n",
    "\n",
    "(BASE_FILE_PATH / 'train').mkdir()\n",
    "(BASE_FILE_PATH / 'test').mkdir()"
   ]
  },
  {
   "cell_type": "code",
   "execution_count": 39,
   "id": "c30679b8",
   "metadata": {},
   "outputs": [
    {
     "data": {
      "text/plain": [
       "{'version': 0,\n",
       " 'classes': {'positive': {'type': 'fa.gz',\n",
       "   'url': 'https://raw.githubusercontent.com/framazan/files/master/Athaliana_167_TAIR9.fa.gz'},\n",
       "  'negative': {'type': 'fa.gz',\n",
       "   'url': 'https://raw.githubusercontent.com/framazan/files/master/Athaliana_167_TAIR9.fa.gz'}}}"
      ]
     },
     "execution_count": 39,
     "metadata": {},
     "output_type": "execute_result"
    }
   ],
   "source": [
    "with open(BASE_FILE_PATH / 'metadata.yaml', 'w') as fw:\n",
    "    desc = {\n",
    "        'version': 0,\n",
    "        'classes': {\n",
    "            'positive': {\n",
    "                'type': 'fa.gz',\n",
    "                'url': 'https://raw.githubusercontent.com/framazan/files/master/Athaliana_167_TAIR9.fa.gz',\n",
    "            },    \n",
    "            'negative': {\n",
    "                'type': 'fa.gz',\n",
    "                'url': 'https://raw.githubusercontent.com/framazan/files/master/Athaliana_167_TAIR9.fa.gz',\n",
    "            }\n",
    "        }\n",
    "    }\n",
    "    \n",
    "    yaml.dump(desc, fw)\n",
    "\n",
    "desc"
   ]
  },
  {
   "cell_type": "markdown",
   "id": "0388ef76",
   "metadata": {},
   "source": [
    "## CSV files"
   ]
  },
  {
   "cell_type": "code",
   "execution_count": null,
   "id": "daefc3c6",
   "metadata": {},
   "outputs": [],
   "source": [
    "train_exons.to_csv(BASE_FILE_PATH / 'train' / 'positive.csv.gz', index=False, compression='gzip')\n",
    "train_nonexons.to_csv(BASE_FILE_PATH / 'train' / 'negative.csv.gz', index=False, compression='gzip')\n",
    "test_exons.to_csv(BASE_FILE_PATH / 'test' / 'positive.csv.gz', index=False, compression='gzip')\n",
    "test_nonexons.to_csv(BASE_FILE_PATH / 'test' / 'negative.csv.gz', index=False, compression='gzip')"
   ]
  },
  {
   "cell_type": "markdown",
   "id": "d34f705e",
   "metadata": {},
   "source": [
    "## Cleaning"
   ]
  },
  {
   "cell_type": "code",
   "execution_count": null,
   "id": "6f4ca24b",
   "metadata": {},
   "outputs": [],
   "source": [
    "!rm positive.csv negative.csv"
   ]
  }
 ],
 "metadata": {
  "kernelspec": {
   "display_name": "Python 3",
   "language": "python",
   "name": "python3"
  },
  "language_info": {
   "codemirror_mode": {
    "name": "ipython",
    "version": 3
   },
   "file_extension": ".py",
   "mimetype": "text/x-python",
   "name": "python",
   "nbconvert_exporter": "python",
   "pygments_lexer": "ipython3",
   "version": "3.10.10"
  }
 },
 "nbformat": 4,
 "nbformat_minor": 5
}
