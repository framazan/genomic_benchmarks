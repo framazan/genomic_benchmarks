{
 "cells": [
  {
   "cell_type": "code",
   "execution_count": 1,
   "id": "eee3c3ee",
   "metadata": {},
   "outputs": [],
   "source": [
    "%load_ext autoreload\n",
    "%autoreload 2"
   ]
  },
  {
   "cell_type": "code",
   "execution_count": 2,
   "id": "a381d940",
   "metadata": {},
   "outputs": [],
   "source": [
    "#from genomic_benchmarks.seq2loc import fasta2loc\n",
    "from sklearn.model_selection import train_test_split\n",
    "import pandas as pd\n",
    "from tqdm.notebook import tqdm\n",
    "from pathlib import Path\n",
    "import yaml\n",
    "import gzip\n",
    "from Bio import SeqIO\n",
    "\n",
    "def _fastagz2dict(fasta_path, fasta_total=None, stop_id=None, region_name_transform=lambda x: x):\n",
    "    # load gzipped fasta into dictionary\n",
    "    fasta = {}\n",
    "\n",
    "    with gzip.open(fasta_path, \"rt\") as handle:\n",
    "        for record in tqdm(SeqIO.parse(handle, \"fasta\"), total=fasta_total):\n",
    "            fasta[region_name_transform(record.id)] = str(record.seq)\n",
    "            if stop_id and (record.id == stop_id):\n",
    "                # stop, do not read small contigs\n",
    "                break\n",
    "    return fasta"
   ]
  },
  {
   "cell_type": "code",
   "execution_count": 3,
   "id": "e8ada6b3",
   "metadata": {},
   "outputs": [
    {
     "name": "stderr",
     "output_type": "stream",
     "text": [
      "/var/folders/vt/ps2glhjd25l8rvb634fdysnc0000gn/T/ipykernel_51651/3281249210.py:1: TqdmExperimentalWarning: Using `tqdm.autonotebook.tqdm` in notebook mode. Use `tqdm.tqdm` instead to force console mode (e.g. in jupyter console)\n",
      "  from tqdm.autonotebook import tqdm as tdm\n"
     ]
    }
   ],
   "source": [
    "from tqdm.autonotebook import tqdm as tdm\n",
    "\n",
    "def fasta2loc(fasta_path, ref_dict, use_seq_ids=True):\n",
    "\n",
    "    tree = {}\n",
    "    nseqs = 0\n",
    "\n",
    "    # building tree for seq searching\n",
    "    for seq in SeqIO.parse(open(fasta_path, \"r\"), \"fasta\"):\n",
    "        s = str(seq.seq)\n",
    "        rev = str(seq.seq.reverse_complement())\n",
    "        if use_seq_ids:\n",
    "            sname = seq.name\n",
    "        else:\n",
    "            sname = s\n",
    "        nseqs += 1\n",
    "\n",
    "        _update_tree(tree, s, sname, \"+\")\n",
    "        _update_tree(tree, rev, sname, \"-\")\n",
    "\n",
    "    print(f\"{nseqs} sequences read and parsed.\")\n",
    "\n",
    "    results = {}\n",
    "\n",
    "    for chrom in tdm(ref_dict):\n",
    "        curr_positions = []\n",
    "        # print(f\"Processing chrom {chrom}.\")\n",
    "\n",
    "        for i, c in tdm(enumerate(ref_dict[chrom]), total=len(ref_dict[chrom]), leave=False):\n",
    "\n",
    "            prev_positions = curr_positions + [tree]\n",
    "            curr_positions = []\n",
    "\n",
    "            for pos in prev_positions:\n",
    "                if c in pos:\n",
    "                    pos = pos[c]\n",
    "                    curr_positions.append(pos)\n",
    "\n",
    "                    if \"terminal\" in pos:\n",
    "                        results[pos[\"terminal\"][0]] = (chrom, i - pos[\"terminal\"][2] + 1, i + 1, pos[\"terminal\"][1])\n",
    "\n",
    "    print(f\"{len(results.keys())} sequences found in the reference.\")\n",
    "\n",
    "    return results\n",
    "\n",
    "\n",
    "def _update_tree(root, seq_str, seq_name, direction):\n",
    "    # updates tree in `root` with a sequence `seq_str`\n",
    "    position = root\n",
    "\n",
    "    for c in seq_str:\n",
    "        if c in position:\n",
    "            position = position[c]\n",
    "        else:\n",
    "            position[c] = {}\n",
    "            position = position[c]\n",
    "    position[\"terminal\"] = (seq_name, direction, len(seq_str))"
   ]
  },
  {
   "cell_type": "markdown",
   "id": "386ad9fd",
   "metadata": {},
   "source": [
    "## Load genomic reference and download data from GitHub"
   ]
  },
  {
   "cell_type": "code",
   "execution_count": 5,
   "id": "d3bd760b",
   "metadata": {},
   "outputs": [
    {
     "data": {
      "application/vnd.jupyter.widget-view+json": {
       "model_id": "71f16e6e50454d708d741e6fd56a692e",
       "version_major": 2,
       "version_minor": 0
      },
      "text/plain": [
       "  0%|          | 0/7 [00:00<?, ?it/s]"
      ]
     },
     "metadata": {},
     "output_type": "display_data"
    },
    {
     "data": {
      "text/plain": [
       "dict_keys(['Chr1', 'Chr2', 'Chr3', 'Chr4', 'Chr5', 'ChrM', 'ChrC'])"
      ]
     },
     "execution_count": 5,
     "metadata": {},
     "output_type": "execute_result"
    }
   ],
   "source": [
    "genome = _fastagz2dict(\"./Athaliana_167_TAIR9.fa.gz\",\n",
    "                      7)\n",
    "genome.keys()"
   ]
  },
  {
   "cell_type": "markdown",
   "id": "fa3368e0",
   "metadata": {},
   "source": [
    "## Get coding sequences"
   ]
  },
  {
   "cell_type": "code",
   "execution_count": 7,
   "id": "102ca6eb",
   "metadata": {},
   "outputs": [],
   "source": [
    "# slow!\n",
    "import shutil\n",
    "with gzip.open('./Athaliana_167_TAIR10.cds.fa.gz', 'rb') as f_in:\n",
    "  with open('./Athaliana_167_TAIR10.cds.fa', 'wb') as f_out:\n",
    "    shutil.copyfileobj(f_in, f_out)"
   ]
  },
  {
   "cell_type": "code",
   "execution_count": 9,
   "id": "5458e86f",
   "metadata": {},
   "outputs": [
    {
     "name": "stdout",
     "output_type": "stream",
     "text": [
      "35386 sequences read and parsed.\n"
     ]
    },
    {
     "data": {
      "application/vnd.jupyter.widget-view+json": {
       "model_id": "2f52888b641e46d59eb6f1f7665cc4e9",
       "version_major": 2,
       "version_minor": 0
      },
      "text/plain": [
       "  0%|          | 0/7 [00:00<?, ?it/s]"
      ]
     },
     "metadata": {},
     "output_type": "display_data"
    },
    {
     "data": {
      "application/vnd.jupyter.widget-view+json": {
       "model_id": "ae83d7da201c4a08a6c22adf36bc4ded",
       "version_major": 2,
       "version_minor": 0
      },
      "text/plain": [
       "  0%|          | 0/30427671 [00:00<?, ?it/s]"
      ]
     },
     "metadata": {},
     "output_type": "display_data"
    },
    {
     "data": {
      "application/vnd.jupyter.widget-view+json": {
       "model_id": "9325f58199c449e583706bafd116993b",
       "version_major": 2,
       "version_minor": 0
      },
      "text/plain": [
       "  0%|          | 0/19698289 [00:00<?, ?it/s]"
      ]
     },
     "metadata": {},
     "output_type": "display_data"
    },
    {
     "data": {
      "application/vnd.jupyter.widget-view+json": {
       "model_id": "03ca19340eee41efbfabad9aa45ebc31",
       "version_major": 2,
       "version_minor": 0
      },
      "text/plain": [
       "  0%|          | 0/23459830 [00:00<?, ?it/s]"
      ]
     },
     "metadata": {},
     "output_type": "display_data"
    },
    {
     "data": {
      "application/vnd.jupyter.widget-view+json": {
       "model_id": "dfc68491efba4c1ea9809870d9e89471",
       "version_major": 2,
       "version_minor": 0
      },
      "text/plain": [
       "  0%|          | 0/18585056 [00:00<?, ?it/s]"
      ]
     },
     "metadata": {},
     "output_type": "display_data"
    },
    {
     "data": {
      "application/vnd.jupyter.widget-view+json": {
       "model_id": "a9d3e7400f1e47beb22df2aaedbcffbf",
       "version_major": 2,
       "version_minor": 0
      },
      "text/plain": [
       "  0%|          | 0/26975502 [00:00<?, ?it/s]"
      ]
     },
     "metadata": {},
     "output_type": "display_data"
    },
    {
     "data": {
      "application/vnd.jupyter.widget-view+json": {
       "model_id": "b9bc5bbcc864446ca8b2b6eb60b2258d",
       "version_major": 2,
       "version_minor": 0
      },
      "text/plain": [
       "  0%|          | 0/366924 [00:00<?, ?it/s]"
      ]
     },
     "metadata": {},
     "output_type": "display_data"
    },
    {
     "data": {
      "application/vnd.jupyter.widget-view+json": {
       "model_id": "503883d2d0e8470bb89e5d4dcd12d81e",
       "version_major": 2,
       "version_minor": 0
      },
      "text/plain": [
       "  0%|          | 0/154478 [00:00<?, ?it/s]"
      ]
     },
     "metadata": {},
     "output_type": "display_data"
    },
    {
     "name": "stdout",
     "output_type": "stream",
     "text": [
      "6954 sequences found in the reference.\n"
     ]
    }
   ],
   "source": [
    "coding_seqs = fasta2loc(\"./Athaliana_167_TAIR10.cds.fa\", genome)"
   ]
  },
  {
   "cell_type": "markdown",
   "id": "d8d34e22",
   "metadata": {},
   "source": [
    "### A few checks"
   ]
  },
  {
   "cell_type": "code",
   "execution_count": 10,
   "id": "c7992834",
   "metadata": {},
   "outputs": [
    {
     "data": {
      "text/plain": [
       "6954"
      ]
     },
     "execution_count": 10,
     "metadata": {},
     "output_type": "execute_result"
    }
   ],
   "source": [
    "len(coding_seqs.keys())"
   ]
  },
  {
   "cell_type": "code",
   "execution_count": 14,
   "id": "76ad9b5c",
   "metadata": {},
   "outputs": [
    {
     "name": "stdout",
     "output_type": "stream",
     "text": [
      "['AT1G01030.1', 'AT1G01073.1', 'AT1G01115.1']\n"
     ]
    }
   ],
   "source": [
    "import itertools\n",
    "#print 3 randomly selected keys\n",
    "test_keys = list(itertools.islice(coding_seqs.keys(), 3))\n",
    "print(test_keys)"
   ]
  },
  {
   "cell_type": "code",
   "execution_count": 20,
   "id": "a9da566a",
   "metadata": {},
   "outputs": [
    {
     "data": {
      "text/plain": [
       "('Chr1', 44676, 44787, '+')"
      ]
     },
     "execution_count": 20,
     "metadata": {},
     "output_type": "execute_result"
    }
   ],
   "source": [
    "coding_seqs[test_keys[1]]"
   ]
  },
  {
   "cell_type": "code",
   "execution_count": 21,
   "id": "78b9738d",
   "metadata": {},
   "outputs": [
    {
     "data": {
      "text/plain": [
       "'ATGCTTATCAGTATCAGCCCACTGATATTTGTGATACCAGTATCATCTGACGTGGCTTCTTCTGATTGGTTACATTTGACAAAAGCAAAAAATATTATATATATTTATTAA'"
      ]
     },
     "execution_count": 21,
     "metadata": {},
     "output_type": "execute_result"
    }
   ],
   "source": [
    "genome['Chr1'][44676:44787]"
   ]
  },
  {
   "cell_type": "code",
   "execution_count": 19,
   "id": "3afc07b5",
   "metadata": {},
   "outputs": [
    {
     "data": {
      "text/plain": [
       "('Chr1', 56623, 56740, '+')"
      ]
     },
     "execution_count": 19,
     "metadata": {},
     "output_type": "execute_result"
    }
   ],
   "source": [
    "coding_seqs['AT1G01115.1']"
   ]
  },
  {
   "cell_type": "code",
   "execution_count": 10,
   "id": "d2a973e5",
   "metadata": {},
   "outputs": [],
   "source": [
    "from Bio.Seq import Seq\n",
    "\n",
    "def _rev(seq, strand):\n",
    "    # reverse complement\n",
    "    if strand == '-':\n",
    "        return str(Seq(seq).reverse_complement())\n",
    "    else:\n",
    "        return seq"
   ]
  },
  {
   "cell_type": "code",
   "execution_count": 11,
   "id": "62fd3e42",
   "metadata": {},
   "outputs": [
    {
     "data": {
      "text/plain": [
       "'GCATCTGGGCCCCACCGGGGCTGCCCGCACCGAGCACGCGAACGCGCCCTCCCGCCCTGAGGCCGCCGGCGTTGCGGTCGGAGAACCATAGAGCCACTCGGCTGGGCGTGGCGCGGCGGGGCGGGGAAAGGGGCGGGGCCTGGGCGGCGGAAGTGCGCAGCCGCGCGGCATTCTGGGGCCGGAAGTGGGGTGCACGCTTCGGGTTGGTGTCATGGCAGCTGCGGGGAGCCGCAAGAGGTAAGCCGCGGGTC'"
      ]
     },
     "execution_count": 11,
     "metadata": {},
     "output_type": "execute_result"
    }
   ],
   "source": [
    "_rev(genome['1'][959200:959451], \"-\")"
   ]
  },
  {
   "cell_type": "code",
   "execution_count": 12,
   "id": "60741d93",
   "metadata": {},
   "outputs": [
    {
     "data": {
      "text/html": [
       "<div>\n",
       "<style scoped>\n",
       "    .dataframe tbody tr th:only-of-type {\n",
       "        vertical-align: middle;\n",
       "    }\n",
       "\n",
       "    .dataframe tbody tr th {\n",
       "        vertical-align: top;\n",
       "    }\n",
       "\n",
       "    .dataframe thead th {\n",
       "        text-align: right;\n",
       "    }\n",
       "</style>\n",
       "<table border=\"1\" class=\"dataframe\">\n",
       "  <thead>\n",
       "    <tr style=\"text-align: right;\">\n",
       "      <th></th>\n",
       "      <th>region</th>\n",
       "      <th>start</th>\n",
       "      <th>end</th>\n",
       "      <th>strand</th>\n",
       "    </tr>\n",
       "    <tr>\n",
       "      <th>id</th>\n",
       "      <th></th>\n",
       "      <th></th>\n",
       "      <th></th>\n",
       "      <th></th>\n",
       "    </tr>\n",
       "  </thead>\n",
       "  <tbody>\n",
       "    <tr>\n",
       "      <th>FP000001</th>\n",
       "      <td>1</td>\n",
       "      <td>925542</td>\n",
       "      <td>925793</td>\n",
       "      <td>+</td>\n",
       "    </tr>\n",
       "    <tr>\n",
       "      <th>FP000002</th>\n",
       "      <td>1</td>\n",
       "      <td>939072</td>\n",
       "      <td>939323</td>\n",
       "      <td>+</td>\n",
       "    </tr>\n",
       "    <tr>\n",
       "      <th>FP000003</th>\n",
       "      <td>1</td>\n",
       "      <td>959200</td>\n",
       "      <td>959451</td>\n",
       "      <td>-</td>\n",
       "    </tr>\n",
       "    <tr>\n",
       "      <th>FP000004</th>\n",
       "      <td>1</td>\n",
       "      <td>960383</td>\n",
       "      <td>960634</td>\n",
       "      <td>+</td>\n",
       "    </tr>\n",
       "    <tr>\n",
       "      <th>FP000005</th>\n",
       "      <td>1</td>\n",
       "      <td>966281</td>\n",
       "      <td>966532</td>\n",
       "      <td>+</td>\n",
       "    </tr>\n",
       "  </tbody>\n",
       "</table>\n",
       "</div>"
      ],
      "text/plain": [
       "         region   start     end strand\n",
       "id                                    \n",
       "FP000001      1  925542  925793      +\n",
       "FP000002      1  939072  939323      +\n",
       "FP000003      1  959200  959451      -\n",
       "FP000004      1  960383  960634      +\n",
       "FP000005      1  966281  966532      +"
      ]
     },
     "execution_count": 12,
     "metadata": {},
     "output_type": "execute_result"
    }
   ],
   "source": [
    "promoters_df = pd.DataFrame.from_dict(promoters, orient='index', columns=['region','start','end','strand']).rename_axis('id')\n",
    "promoters_df.to_csv(\"positive.csv\")\n",
    "promoters_df.head()"
   ]
  },
  {
   "cell_type": "markdown",
   "id": "5f5defbb",
   "metadata": {},
   "source": [
    "## Get non-promoters"
   ]
  },
  {
   "cell_type": "code",
   "execution_count": 13,
   "id": "5fcbbcee",
   "metadata": {},
   "outputs": [
    {
     "name": "stdout",
     "output_type": "stream",
     "text": [
      "27731 sequences read and parsed.\n"
     ]
    },
    {
     "data": {
      "application/vnd.jupyter.widget-view+json": {
       "model_id": "df7f10abfe10498499b27241fc945728",
       "version_major": 2,
       "version_minor": 0
      },
      "text/plain": [
       "  0%|          | 0/25 [00:00<?, ?it/s]"
      ]
     },
     "metadata": {},
     "output_type": "display_data"
    },
    {
     "data": {
      "application/vnd.jupyter.widget-view+json": {
       "model_id": "",
       "version_major": 2,
       "version_minor": 0
      },
      "text/plain": [
       "  0%|          | 0/248956422 [00:00<?, ?it/s]"
      ]
     },
     "metadata": {},
     "output_type": "display_data"
    },
    {
     "data": {
      "application/vnd.jupyter.widget-view+json": {
       "model_id": "",
       "version_major": 2,
       "version_minor": 0
      },
      "text/plain": [
       "  0%|          | 0/242193529 [00:00<?, ?it/s]"
      ]
     },
     "metadata": {},
     "output_type": "display_data"
    },
    {
     "data": {
      "application/vnd.jupyter.widget-view+json": {
       "model_id": "",
       "version_major": 2,
       "version_minor": 0
      },
      "text/plain": [
       "  0%|          | 0/198295559 [00:00<?, ?it/s]"
      ]
     },
     "metadata": {},
     "output_type": "display_data"
    },
    {
     "data": {
      "application/vnd.jupyter.widget-view+json": {
       "model_id": "",
       "version_major": 2,
       "version_minor": 0
      },
      "text/plain": [
       "  0%|          | 0/190214555 [00:00<?, ?it/s]"
      ]
     },
     "metadata": {},
     "output_type": "display_data"
    },
    {
     "data": {
      "application/vnd.jupyter.widget-view+json": {
       "model_id": "",
       "version_major": 2,
       "version_minor": 0
      },
      "text/plain": [
       "  0%|          | 0/181538259 [00:00<?, ?it/s]"
      ]
     },
     "metadata": {},
     "output_type": "display_data"
    },
    {
     "data": {
      "application/vnd.jupyter.widget-view+json": {
       "model_id": "",
       "version_major": 2,
       "version_minor": 0
      },
      "text/plain": [
       "  0%|          | 0/170805979 [00:00<?, ?it/s]"
      ]
     },
     "metadata": {},
     "output_type": "display_data"
    },
    {
     "data": {
      "application/vnd.jupyter.widget-view+json": {
       "model_id": "",
       "version_major": 2,
       "version_minor": 0
      },
      "text/plain": [
       "  0%|          | 0/159345973 [00:00<?, ?it/s]"
      ]
     },
     "metadata": {},
     "output_type": "display_data"
    },
    {
     "data": {
      "application/vnd.jupyter.widget-view+json": {
       "model_id": "",
       "version_major": 2,
       "version_minor": 0
      },
      "text/plain": [
       "  0%|          | 0/145138636 [00:00<?, ?it/s]"
      ]
     },
     "metadata": {},
     "output_type": "display_data"
    },
    {
     "data": {
      "application/vnd.jupyter.widget-view+json": {
       "model_id": "",
       "version_major": 2,
       "version_minor": 0
      },
      "text/plain": [
       "  0%|          | 0/138394717 [00:00<?, ?it/s]"
      ]
     },
     "metadata": {},
     "output_type": "display_data"
    },
    {
     "data": {
      "application/vnd.jupyter.widget-view+json": {
       "model_id": "",
       "version_major": 2,
       "version_minor": 0
      },
      "text/plain": [
       "  0%|          | 0/133797422 [00:00<?, ?it/s]"
      ]
     },
     "metadata": {},
     "output_type": "display_data"
    },
    {
     "data": {
      "application/vnd.jupyter.widget-view+json": {
       "model_id": "",
       "version_major": 2,
       "version_minor": 0
      },
      "text/plain": [
       "  0%|          | 0/135086622 [00:00<?, ?it/s]"
      ]
     },
     "metadata": {},
     "output_type": "display_data"
    },
    {
     "data": {
      "application/vnd.jupyter.widget-view+json": {
       "model_id": "",
       "version_major": 2,
       "version_minor": 0
      },
      "text/plain": [
       "  0%|          | 0/133275309 [00:00<?, ?it/s]"
      ]
     },
     "metadata": {},
     "output_type": "display_data"
    },
    {
     "data": {
      "application/vnd.jupyter.widget-view+json": {
       "model_id": "",
       "version_major": 2,
       "version_minor": 0
      },
      "text/plain": [
       "  0%|          | 0/114364328 [00:00<?, ?it/s]"
      ]
     },
     "metadata": {},
     "output_type": "display_data"
    },
    {
     "data": {
      "application/vnd.jupyter.widget-view+json": {
       "model_id": "",
       "version_major": 2,
       "version_minor": 0
      },
      "text/plain": [
       "  0%|          | 0/107043718 [00:00<?, ?it/s]"
      ]
     },
     "metadata": {},
     "output_type": "display_data"
    },
    {
     "data": {
      "application/vnd.jupyter.widget-view+json": {
       "model_id": "",
       "version_major": 2,
       "version_minor": 0
      },
      "text/plain": [
       "  0%|          | 0/101991189 [00:00<?, ?it/s]"
      ]
     },
     "metadata": {},
     "output_type": "display_data"
    },
    {
     "data": {
      "application/vnd.jupyter.widget-view+json": {
       "model_id": "",
       "version_major": 2,
       "version_minor": 0
      },
      "text/plain": [
       "  0%|          | 0/90338345 [00:00<?, ?it/s]"
      ]
     },
     "metadata": {},
     "output_type": "display_data"
    },
    {
     "data": {
      "application/vnd.jupyter.widget-view+json": {
       "model_id": "",
       "version_major": 2,
       "version_minor": 0
      },
      "text/plain": [
       "  0%|          | 0/83257441 [00:00<?, ?it/s]"
      ]
     },
     "metadata": {},
     "output_type": "display_data"
    },
    {
     "data": {
      "application/vnd.jupyter.widget-view+json": {
       "model_id": "",
       "version_major": 2,
       "version_minor": 0
      },
      "text/plain": [
       "  0%|          | 0/80373285 [00:00<?, ?it/s]"
      ]
     },
     "metadata": {},
     "output_type": "display_data"
    },
    {
     "data": {
      "application/vnd.jupyter.widget-view+json": {
       "model_id": "",
       "version_major": 2,
       "version_minor": 0
      },
      "text/plain": [
       "  0%|          | 0/58617616 [00:00<?, ?it/s]"
      ]
     },
     "metadata": {},
     "output_type": "display_data"
    },
    {
     "data": {
      "application/vnd.jupyter.widget-view+json": {
       "model_id": "",
       "version_major": 2,
       "version_minor": 0
      },
      "text/plain": [
       "  0%|          | 0/64444167 [00:00<?, ?it/s]"
      ]
     },
     "metadata": {},
     "output_type": "display_data"
    },
    {
     "data": {
      "application/vnd.jupyter.widget-view+json": {
       "model_id": "",
       "version_major": 2,
       "version_minor": 0
      },
      "text/plain": [
       "  0%|          | 0/46709983 [00:00<?, ?it/s]"
      ]
     },
     "metadata": {},
     "output_type": "display_data"
    },
    {
     "data": {
      "application/vnd.jupyter.widget-view+json": {
       "model_id": "",
       "version_major": 2,
       "version_minor": 0
      },
      "text/plain": [
       "  0%|          | 0/50818468 [00:00<?, ?it/s]"
      ]
     },
     "metadata": {},
     "output_type": "display_data"
    },
    {
     "data": {
      "application/vnd.jupyter.widget-view+json": {
       "model_id": "",
       "version_major": 2,
       "version_minor": 0
      },
      "text/plain": [
       "  0%|          | 0/156040895 [00:00<?, ?it/s]"
      ]
     },
     "metadata": {},
     "output_type": "display_data"
    },
    {
     "data": {
      "application/vnd.jupyter.widget-view+json": {
       "model_id": "",
       "version_major": 2,
       "version_minor": 0
      },
      "text/plain": [
       "  0%|          | 0/57227415 [00:00<?, ?it/s]"
      ]
     },
     "metadata": {},
     "output_type": "display_data"
    },
    {
     "data": {
      "application/vnd.jupyter.widget-view+json": {
       "model_id": "",
       "version_major": 2,
       "version_minor": 0
      },
      "text/plain": [
       "  0%|          | 0/16569 [00:00<?, ?it/s]"
      ]
     },
     "metadata": {},
     "output_type": "display_data"
    },
    {
     "name": "stdout",
     "output_type": "stream",
     "text": [
      "16474 sequences found in the reference.\n"
     ]
    }
   ],
   "source": [
    "# slow!\n",
    "nonpromoters = fasta2loc(\"./human_nonprom_big.fa\", genome, use_seq_ids=False)"
   ]
  },
  {
   "cell_type": "code",
   "execution_count": 14,
   "id": "2b607914",
   "metadata": {},
   "outputs": [
    {
     "data": {
      "text/html": [
       "<div>\n",
       "<style scoped>\n",
       "    .dataframe tbody tr th:only-of-type {\n",
       "        vertical-align: middle;\n",
       "    }\n",
       "\n",
       "    .dataframe tbody tr th {\n",
       "        vertical-align: top;\n",
       "    }\n",
       "\n",
       "    .dataframe thead th {\n",
       "        text-align: right;\n",
       "    }\n",
       "</style>\n",
       "<table border=\"1\" class=\"dataframe\">\n",
       "  <thead>\n",
       "    <tr style=\"text-align: right;\">\n",
       "      <th></th>\n",
       "      <th>region</th>\n",
       "      <th>start</th>\n",
       "      <th>end</th>\n",
       "      <th>strand</th>\n",
       "    </tr>\n",
       "    <tr>\n",
       "      <th>id</th>\n",
       "      <th></th>\n",
       "      <th></th>\n",
       "      <th></th>\n",
       "      <th></th>\n",
       "    </tr>\n",
       "  </thead>\n",
       "  <tbody>\n",
       "    <tr>\n",
       "      <th>AGAGCAGAAGACCGAAAGGTGAGTCGGCCTGCGGACTCTTCCGGCCCGAACTTCTCTTACCTACCCCGCGCTCCCCGGTGCAGCCGGGCTGTGGAAGGCTTGCAGGGGAGGAAGCTAAAAAGTTTGCACAGGGCAACTCCCGCCCTTGCTCCCTCGGGACTCTCCGTGGAGCTCCCACGGACTGAAAGAGCGTGCCCCCCAACCCGAACGAGCCCCGCCGGGGCCTTTGCAAAGGGCAGCAGTGGCCGTCG</th>\n",
       "      <td>1</td>\n",
       "      <td>67685520</td>\n",
       "      <td>67685771</td>\n",
       "      <td>+</td>\n",
       "    </tr>\n",
       "    <tr>\n",
       "      <th>TCGGCCTGCGGACTCTTCCGGCCCGAACTTCTCTTACCTACCCCGCGCTCCCCGGTGCAGCCGGGCTGTGGAAGGCTTGCAGGGGAGGAAGCTAAAAAGTTTGCACAGGGCAACTCCCGCCCTTGCTCCCTCGGGACTCTCCGTGGAGCTCCCACGGACTGAAAGAGCGTGCCCCCCAACCCGAACGAGCCCCGCCGGGGCCTTTGCAAAGGGCAGCAGTGGCCGTCGCTGCCCGTGCGGCTCCCGTGGCT</th>\n",
       "      <td>1</td>\n",
       "      <td>67685543</td>\n",
       "      <td>67685794</td>\n",
       "      <td>+</td>\n",
       "    </tr>\n",
       "    <tr>\n",
       "      <th>CGGACTCTTCCGGCCCGAACTTCTCTTACCTACCCCGCGCTCCCCGGTGCAGCCGGGCTGTGGAAGGCTTGCAGGGGAGGAAGCTAAAAAGTTTGCACAGGGCAACTCCCGCCCTTGCTCCCTCGGGACTCTCCGTGGAGCTCCCACGGACTGAAAGAGCGTGCCCCCCAACCCGAACGAGCCCCGCCGGGGCCTTTGCAAAGGGCAGCAGTGGCCGTCGCTGCCCGTGCGGCTCCCGTGGCTGGCAGCCT</th>\n",
       "      <td>1</td>\n",
       "      <td>67685551</td>\n",
       "      <td>67685802</td>\n",
       "      <td>+</td>\n",
       "    </tr>\n",
       "    <tr>\n",
       "      <th>CCCCGGTGCAGCCGGGCTGTGGAAGGCTTGCAGGGGAGGAAGCTAAAAAGTTTGCACAGGGCAACTCCCGCCCTTGCTCCCTCGGGACTCTCCGTGGAGCTCCCACGGACTGAAAGAGCGTGCCCCCCAACCCGAACGAGCCCCGCCGGGGCCTTTGCAAAGGGCAGCAGTGGCCGTCGCTGCCCGTGCGGCTCCCGTGGCTGGCAGCCTGTGGCAGGGGCACTCTCGGGACTTCTCACGGGACGCCCGGT</th>\n",
       "      <td>1</td>\n",
       "      <td>67685592</td>\n",
       "      <td>67685843</td>\n",
       "      <td>+</td>\n",
       "    </tr>\n",
       "    <tr>\n",
       "      <th>GGGGAGGAAGCTAAAAAGTTTGCACAGGGCAACTCCCGCCCTTGCTCCCTCGGGACTCTCCGTGGAGCTCCCACGGACTGAAAGAGCGTGCCCCCCAACCCGAACGAGCCCCGCCGGGGCCTTTGCAAAGGGCAGCAGTGGCCGTCGCTGCCCGTGCGGCTCCCGTGGCTGGCAGCCTGTGGCAGGGGCACTCTCGGGACTTCTCACGGGACGCCCGGTCCTTGGGCGTGCAGGGGTCATGGGGGGTGACG</th>\n",
       "      <td>1</td>\n",
       "      <td>67685624</td>\n",
       "      <td>67685875</td>\n",
       "      <td>+</td>\n",
       "    </tr>\n",
       "  </tbody>\n",
       "</table>\n",
       "</div>"
      ],
      "text/plain": [
       "                                                   region     start       end  \\\n",
       "id                                                                              \n",
       "AGAGCAGAAGACCGAAAGGTGAGTCGGCCTGCGGACTCTTCCGGCCC...      1  67685520  67685771   \n",
       "TCGGCCTGCGGACTCTTCCGGCCCGAACTTCTCTTACCTACCCCGCG...      1  67685543  67685794   \n",
       "CGGACTCTTCCGGCCCGAACTTCTCTTACCTACCCCGCGCTCCCCGG...      1  67685551  67685802   \n",
       "CCCCGGTGCAGCCGGGCTGTGGAAGGCTTGCAGGGGAGGAAGCTAAA...      1  67685592  67685843   \n",
       "GGGGAGGAAGCTAAAAAGTTTGCACAGGGCAACTCCCGCCCTTGCTC...      1  67685624  67685875   \n",
       "\n",
       "                                                   strand  \n",
       "id                                                         \n",
       "AGAGCAGAAGACCGAAAGGTGAGTCGGCCTGCGGACTCTTCCGGCCC...      +  \n",
       "TCGGCCTGCGGACTCTTCCGGCCCGAACTTCTCTTACCTACCCCGCG...      +  \n",
       "CGGACTCTTCCGGCCCGAACTTCTCTTACCTACCCCGCGCTCCCCGG...      +  \n",
       "CCCCGGTGCAGCCGGGCTGTGGAAGGCTTGCAGGGGAGGAAGCTAAA...      +  \n",
       "GGGGAGGAAGCTAAAAAGTTTGCACAGGGCAACTCCCGCCCTTGCTC...      +  "
      ]
     },
     "execution_count": 14,
     "metadata": {},
     "output_type": "execute_result"
    }
   ],
   "source": [
    "nonpromoters_df = pd.DataFrame.from_dict(nonpromoters, orient='index', columns=['region','start','end','strand']).rename_axis('id')\n",
    "nonpromoters_df.head()"
   ]
  },
  {
   "cell_type": "code",
   "execution_count": 15,
   "id": "903c90b8",
   "metadata": {},
   "outputs": [
    {
     "data": {
      "text/plain": [
       "True"
      ]
     },
     "execution_count": 15,
     "metadata": {},
     "output_type": "execute_result"
    }
   ],
   "source": [
    "# check one sequence\n",
    "genome['1'][67685592:67685843] == nonpromoters_df.index[3]"
   ]
  },
  {
   "cell_type": "code",
   "execution_count": 16,
   "id": "8be96b0f",
   "metadata": {},
   "outputs": [
    {
     "data": {
      "text/html": [
       "<div>\n",
       "<style scoped>\n",
       "    .dataframe tbody tr th:only-of-type {\n",
       "        vertical-align: middle;\n",
       "    }\n",
       "\n",
       "    .dataframe tbody tr th {\n",
       "        vertical-align: top;\n",
       "    }\n",
       "\n",
       "    .dataframe thead th {\n",
       "        text-align: right;\n",
       "    }\n",
       "</style>\n",
       "<table border=\"1\" class=\"dataframe\">\n",
       "  <thead>\n",
       "    <tr style=\"text-align: right;\">\n",
       "      <th></th>\n",
       "      <th>id</th>\n",
       "      <th>region</th>\n",
       "      <th>start</th>\n",
       "      <th>end</th>\n",
       "      <th>strand</th>\n",
       "    </tr>\n",
       "  </thead>\n",
       "  <tbody>\n",
       "    <tr>\n",
       "      <th>0</th>\n",
       "      <td>0</td>\n",
       "      <td>1</td>\n",
       "      <td>67685520</td>\n",
       "      <td>67685771</td>\n",
       "      <td>+</td>\n",
       "    </tr>\n",
       "    <tr>\n",
       "      <th>1</th>\n",
       "      <td>1</td>\n",
       "      <td>1</td>\n",
       "      <td>67685543</td>\n",
       "      <td>67685794</td>\n",
       "      <td>+</td>\n",
       "    </tr>\n",
       "    <tr>\n",
       "      <th>2</th>\n",
       "      <td>2</td>\n",
       "      <td>1</td>\n",
       "      <td>67685551</td>\n",
       "      <td>67685802</td>\n",
       "      <td>+</td>\n",
       "    </tr>\n",
       "    <tr>\n",
       "      <th>3</th>\n",
       "      <td>3</td>\n",
       "      <td>1</td>\n",
       "      <td>67685592</td>\n",
       "      <td>67685843</td>\n",
       "      <td>+</td>\n",
       "    </tr>\n",
       "    <tr>\n",
       "      <th>4</th>\n",
       "      <td>4</td>\n",
       "      <td>1</td>\n",
       "      <td>67685624</td>\n",
       "      <td>67685875</td>\n",
       "      <td>+</td>\n",
       "    </tr>\n",
       "  </tbody>\n",
       "</table>\n",
       "</div>"
      ],
      "text/plain": [
       "   id region     start       end strand\n",
       "0   0      1  67685520  67685771      +\n",
       "1   1      1  67685543  67685794      +\n",
       "2   2      1  67685551  67685802      +\n",
       "3   3      1  67685592  67685843      +\n",
       "4   4      1  67685624  67685875      +"
      ]
     },
     "execution_count": 16,
     "metadata": {},
     "output_type": "execute_result"
    }
   ],
   "source": [
    "nonpromoters_df.reset_index(inplace=True)\n",
    "nonpromoters_df['id'] = list(range(nonpromoters_df.shape[0]))\n",
    "nonpromoters_df.head()"
   ]
  },
  {
   "cell_type": "code",
   "execution_count": 17,
   "id": "279d998f",
   "metadata": {},
   "outputs": [
    {
     "data": {
      "text/plain": [
       "16474"
      ]
     },
     "execution_count": 17,
     "metadata": {},
     "output_type": "execute_result"
    }
   ],
   "source": [
    "nonpromoters_df.to_csv(\"negative.csv\", index=False)\n",
    "len(nonpromoters.keys())"
   ]
  },
  {
   "cell_type": "code",
   "execution_count": 18,
   "id": "9a703f52",
   "metadata": {},
   "outputs": [],
   "source": [
    "promoters_df = pd.read_csv(\"positive.csv\")\n",
    "nonpromoters_df = pd.read_csv(\"negative.csv\")\n",
    "\n",
    "promoters_df['region'] = \"chr\" + promoters_df['region']\n",
    "nonpromoters_df['region'] = \"chr\" + nonpromoters_df['region']"
   ]
  },
  {
   "cell_type": "markdown",
   "id": "c0496e67",
   "metadata": {},
   "source": [
    "## Train/test split"
   ]
  },
  {
   "cell_type": "code",
   "execution_count": 19,
   "id": "2f27f8d0",
   "metadata": {},
   "outputs": [
    {
     "data": {
      "text/plain": [
       "((14742, 5), (4915, 5))"
      ]
     },
     "execution_count": 19,
     "metadata": {},
     "output_type": "execute_result"
    }
   ],
   "source": [
    "train_promoters, test_promoters = train_test_split(promoters_df, shuffle=True, random_state=42)\n",
    "train_promoters.shape, test_promoters.shape"
   ]
  },
  {
   "cell_type": "code",
   "execution_count": 20,
   "id": "9ef9b7a4",
   "metadata": {},
   "outputs": [
    {
     "data": {
      "text/plain": [
       "((12355, 5), (4119, 5))"
      ]
     },
     "execution_count": 20,
     "metadata": {},
     "output_type": "execute_result"
    }
   ],
   "source": [
    "train_nonpromoters, test_nonpromoters = train_test_split(nonpromoters_df, shuffle=True, random_state=42)\n",
    "train_nonpromoters.shape, test_nonpromoters.shape"
   ]
  },
  {
   "cell_type": "markdown",
   "id": "757f1dbc",
   "metadata": {},
   "source": [
    "## YAML file"
   ]
  },
  {
   "cell_type": "code",
   "execution_count": 23,
   "id": "851f592d",
   "metadata": {},
   "outputs": [],
   "source": [
    "BASE_FILE_PATH = Path(\"../../datasets/human_nontata_promoters/\")\n",
    "\n",
    "# copied from https://stackoverflow.com/a/57892171\n",
    "def rm_tree(pth: Path):\n",
    "    for child in pth.iterdir():\n",
    "        if child.is_file():\n",
    "            child.unlink()\n",
    "        else:\n",
    "            rm_tree(child)\n",
    "    pth.rmdir()\n",
    "\n",
    "if BASE_FILE_PATH.exists():\n",
    "    rm_tree(BASE_FILE_PATH)\n",
    "    \n",
    "BASE_FILE_PATH.mkdir()\n",
    "(BASE_FILE_PATH / 'train').mkdir()\n",
    "(BASE_FILE_PATH / 'test').mkdir()"
   ]
  },
  {
   "cell_type": "code",
   "execution_count": 24,
   "id": "c30679b8",
   "metadata": {},
   "outputs": [
    {
     "data": {
      "text/plain": [
       "{'version': 0,\n",
       " 'classes': {'positive': {'type': 'fa.gz',\n",
       "   'url': 'http://ftp.ensembl.org/pub/release-97/fasta/homo_sapiens/dna/Homo_sapiens.GRCh38.dna.toplevel.fa.gz',\n",
       "   'extra_processing': 'ENSEMBL_HUMAN_GENOME'},\n",
       "  'negative': {'type': 'fa.gz',\n",
       "   'url': 'http://ftp.ensembl.org/pub/release-97/fasta/homo_sapiens/dna/Homo_sapiens.GRCh38.dna.toplevel.fa.gz',\n",
       "   'extra_processing': 'ENSEMBL_HUMAN_GENOME'}}}"
      ]
     },
     "execution_count": 24,
     "metadata": {},
     "output_type": "execute_result"
    }
   ],
   "source": [
    "with open(BASE_FILE_PATH / 'metadata.yaml', 'w') as fw:\n",
    "    desc = {\n",
    "        'version': 0,\n",
    "        'classes': {\n",
    "            'positive': {\n",
    "                'type': 'fa.gz',\n",
    "                'url': 'http://ftp.ensembl.org/pub/release-97/fasta/homo_sapiens/dna/Homo_sapiens.GRCh38.dna.toplevel.fa.gz',\n",
    "                'extra_processing': 'ENSEMBL_HUMAN_GENOME' \n",
    "            },    \n",
    "            'negative': {\n",
    "                'type': 'fa.gz',\n",
    "                'url': 'http://ftp.ensembl.org/pub/release-97/fasta/homo_sapiens/dna/Homo_sapiens.GRCh38.dna.toplevel.fa.gz',\n",
    "                'extra_processing': 'ENSEMBL_HUMAN_GENOME' \n",
    "            }\n",
    "        }\n",
    "    }\n",
    "    \n",
    "    yaml.dump(desc, fw)\n",
    "\n",
    "desc"
   ]
  },
  {
   "cell_type": "markdown",
   "id": "0388ef76",
   "metadata": {},
   "source": [
    "## CSV files"
   ]
  },
  {
   "cell_type": "code",
   "execution_count": 25,
   "id": "daefc3c6",
   "metadata": {},
   "outputs": [],
   "source": [
    "train_promoters.to_csv(BASE_FILE_PATH / 'train' / 'positive.csv.gz', index=False, compression='gzip')\n",
    "train_nonpromoters.to_csv(BASE_FILE_PATH / 'train' / 'negative.csv.gz', index=False, compression='gzip')\n",
    "test_promoters.to_csv(BASE_FILE_PATH / 'test' / 'positive.csv.gz', index=False, compression='gzip')\n",
    "test_nonpromoters.to_csv(BASE_FILE_PATH / 'test' / 'negative.csv.gz', index=False, compression='gzip')"
   ]
  },
  {
   "cell_type": "markdown",
   "id": "d34f705e",
   "metadata": {},
   "source": [
    "## Cleaning"
   ]
  },
  {
   "cell_type": "code",
   "execution_count": 26,
   "id": "6f4ca24b",
   "metadata": {},
   "outputs": [],
   "source": [
    "!rm human_non_tata.fa human_nonprom_big.fa\n",
    "!rm positive.csv negative.csv"
   ]
  },
  {
   "cell_type": "code",
   "execution_count": null,
   "id": "5cdf1b40",
   "metadata": {},
   "outputs": [],
   "source": []
  }
 ],
 "metadata": {
  "kernelspec": {
   "display_name": "Python 3",
   "language": "python",
   "name": "python3"
  },
  "language_info": {
   "codemirror_mode": {
    "name": "ipython",
    "version": 3
   },
   "file_extension": ".py",
   "mimetype": "text/x-python",
   "name": "python",
   "nbconvert_exporter": "python",
   "pygments_lexer": "ipython3",
   "version": "3.10.10"
  }
 },
 "nbformat": 4,
 "nbformat_minor": 5
}
